{
 "cells": [
  {
   "cell_type": "markdown",
   "id": "a1718ee3-6e10-41d6-a4c5-2050ae23693a",
   "metadata": {},
   "source": [
    "# Demonstrating true strength of FireDucks in Query planning and optimization\n",
    "\n",
    "The [TPC-H](https://www.tpc.org/tpch/) is a decision support benchmark that consists of a suite of business-oriented ad-hoc queries and concurrent data modifications. We will use [Query-3](https://www.tpc.org/TPC_Documents_Current_Versions/pdf/TPC-H_v3.0.1.pdf#page=33) in this demonstration that deals with three large tables, namely `lineitem`, `customer`, and `orders` with complex join, gorupby, sort etc."
   ]
  },
  {
   "cell_type": "markdown",
   "id": "9da844d3-f9c6-4841-b245-5ba1524814fe",
   "metadata": {},
   "source": [
    "##  Preparing Data (Scale Factor: 10) "
   ]
  },
  {
   "cell_type": "code",
   "execution_count": 1,
   "id": "72500439-c98b-4e52-9ffa-b14ae5461a9a",
   "metadata": {},
   "outputs": [],
   "source": [
    "!pip install -q -U fireducks pydantic pydantic_settings linetimer"
   ]
  },
  {
   "cell_type": "code",
   "execution_count": 2,
   "id": "229a503d-ff9a-448c-ac26-ebaafda1c5df",
   "metadata": {},
   "outputs": [
    {
     "name": "stdout",
     "output_type": "stream",
     "text": [
      "fatal: destination path 'polars-tpch' already exists and is not an empty directory.\n"
     ]
    }
   ],
   "source": [
    "!git clone https://github.com/fireducks-dev/polars-tpch.git"
   ]
  },
  {
   "cell_type": "code",
   "execution_count": 3,
   "id": "c494d4e0-55e9-4b0f-821b-fab7a0bd1821",
   "metadata": {},
   "outputs": [
    {
     "name": "stdout",
     "output_type": "stream",
     "text": [
      "make: Nothing to be done for 'all'.\n",
      "TPC-H Population Generator (Version 2.17.2)\n",
      "Copyright Transaction Processing Performance Council 1994 - 2010\n"
     ]
    }
   ],
   "source": [
    "!mkdir -p polars-tpch/data/tables/scale-10.0\n",
    "!cd polars-tpch/tpch-dbgen; make; ./dbgen -s 10; mv *.tbl ../data/tables/scale-10.0"
   ]
  },
  {
   "cell_type": "code",
   "execution_count": 4,
   "id": "5953059e-31ce-4a77-b14d-52f5326b6a84",
   "metadata": {},
   "outputs": [
    {
     "name": "stdout",
     "output_type": "stream",
     "text": [
      "customer.tbl  nation.tbl  part.tbl\tregion.tbl\n",
      "lineitem.tbl  orders.tbl  partsupp.tbl\tsupplier.tbl\n"
     ]
    }
   ],
   "source": [
    "!ls polars-tpch/data/tables/*"
   ]
  },
  {
   "cell_type": "code",
   "execution_count": 5,
   "id": "6d4360ce-933d-43a4-a971-4de48b6f2cbf",
   "metadata": {},
   "outputs": [
    {
     "name": "stdout",
     "output_type": "stream",
     "text": [
      "Processing table: customer\n",
      "Processing table: lineitem\n",
      "Processing table: nation\n",
      "Processing table: orders\n",
      "Processing table: part\n",
      "Processing table: partsupp\n",
      "Processing table: region\n",
      "Processing table: supplier\n"
     ]
    }
   ],
   "source": [
    "# generating parquet files with header from the above .tbl files\n",
    "!cd polars-tpch; PATH_TABLES=data/tables SCALE_FACTOR=10.0 python -m scripts.prepare_data_pyarrow"
   ]
  },
  {
   "cell_type": "code",
   "execution_count": 6,
   "id": "1af48eb1-6ea9-4650-9df4-8bdf8cb596e1",
   "metadata": {},
   "outputs": [
    {
     "name": "stdout",
     "output_type": "stream",
     "text": [
      "customer.parquet  nation.parquet  part.parquet\t    region.parquet\n",
      "customer.tbl\t  nation.tbl\t  part.tbl\t    region.tbl\n",
      "lineitem.parquet  orders.parquet  partsupp.parquet  supplier.parquet\n",
      "lineitem.tbl\t  orders.tbl\t  partsupp.tbl\t    supplier.tbl\n"
     ]
    }
   ],
   "source": [
    "!ls polars-tpch/data/tables/*"
   ]
  },
  {
   "cell_type": "markdown",
   "id": "b8204f0a-db10-4911-8dbe-84b739316b15",
   "metadata": {},
   "source": [
    "## Checking Evaluation Environments"
   ]
  },
  {
   "cell_type": "code",
   "execution_count": 7,
   "id": "51f5c8dc-30aa-4968-b817-a0f265dbf20d",
   "metadata": {},
   "outputs": [
    {
     "name": "stdout",
     "output_type": "stream",
     "text": [
      "============================== Evaluation Environment Information ==============================\n",
      "platform: Linux\n",
      "architecture: x86_64\n",
      "processor: x86_64\n",
      "cpu: 48\n"
     ]
    }
   ],
   "source": [
    "import platform, psutil\n",
    "print(\"=\"*30, \"Evaluation Environment Information\", \"=\"*30)\n",
    "print(f'platform: {platform.system()}')\n",
    "print(f'architecture: {platform.machine()}')\n",
    "print(f'processor: {platform.processor()}')\n",
    "print(f'cpu: {psutil.cpu_count()}')"
   ]
  },
  {
   "cell_type": "code",
   "execution_count": 8,
   "id": "28455ba7-e67d-4cc5-ba13-adac088104a4",
   "metadata": {},
   "outputs": [
    {
     "name": "stdout",
     "output_type": "stream",
     "text": [
      "Mon Jan 13 16:09:00 2025       \n",
      "+-----------------------------------------------------------------------------+\n",
      "| NVIDIA-SMI 520.61.05    Driver Version: 520.61.05    CUDA Version: 11.8     |\n",
      "|-------------------------------+----------------------+----------------------+\n",
      "| GPU  Name        Persistence-M| Bus-Id        Disp.A | Volatile Uncorr. ECC |\n",
      "| Fan  Temp  Perf  Pwr:Usage/Cap|         Memory-Usage | GPU-Util  Compute M. |\n",
      "|                               |                      |               MIG M. |\n",
      "|===============================+======================+======================|\n",
      "|   0  Tesla V100-PCIE...  Off  | 00000000:86:00.0 Off |                    0 |\n",
      "| N/A   52C    P0    42W / 250W |    810MiB / 32768MiB |      0%      Default |\n",
      "|                               |                      |                  N/A |\n",
      "+-------------------------------+----------------------+----------------------+\n",
      "                                                                               \n",
      "+-----------------------------------------------------------------------------+\n",
      "| Processes:                                                                  |\n",
      "|  GPU   GI   CI        PID   Type   Process name                  GPU Memory |\n",
      "|        ID   ID                                                   Usage      |\n",
      "|=============================================================================|\n",
      "|    0   N/A  N/A   1586644      C   ...pids-24.12/bin/python3.11      806MiB |\n",
      "+-----------------------------------------------------------------------------+\n"
     ]
    }
   ],
   "source": [
    "!nvidia-smi"
   ]
  },
  {
   "cell_type": "markdown",
   "id": "69296865-9c92-43ef-8f85-4796423b8142",
   "metadata": {},
   "source": [
    "##  Defining Query"
   ]
  },
  {
   "cell_type": "code",
   "execution_count": 9,
   "id": "64250738-a610-4209-b9d6-33a85b2e963e",
   "metadata": {},
   "outputs": [],
   "source": [
    "import os\n",
    "import datetime\n",
    "from linetimer import CodeTimer\n",
    "\n",
    "# REF: https://www.tpc.org/TPC_Documents_Current_Versions/pdf/TPC-H_v3.0.1.pdf#page=33\n",
    "def q3(datapath):\n",
    "    m_name = getattr(pd.__spec__.loader, \"fast_lib\", pd.__name__).split(\".\")[0]\n",
    "    \n",
    "    # to avoid some incompatibility issues in cuDF pandas\n",
    "    dt_cons = datetime.datetime if m_name == \"cudf\" else datetime.date\n",
    "\n",
    "    with CodeTimer(name=f\"Overall execution of q3 using {m_name}\", unit=\"s\"):    \n",
    "        (\n",
    "            pd.read_parquet(os.path.join(datapath, \"customer.parquet\"))\n",
    "              .merge(pd.read_parquet(os.path.join(datapath, \"orders.parquet\")), \n",
    "                     left_on=\"c_custkey\", right_on=\"o_custkey\")\n",
    "              .merge(pd.read_parquet(os.path.join(datapath, \"lineitem.parquet\")), \n",
    "                     left_on=\"o_orderkey\", right_on=\"l_orderkey\")\n",
    "              .pipe(lambda df: df[df[\"c_mktsegment\"] == \"BUILDING\"])\n",
    "              .pipe(lambda df: df[df[\"o_orderdate\"] < dt_cons(1995, 3, 15)])\n",
    "              .pipe(lambda df: df[df[\"l_shipdate\"] > dt_cons(1995, 3, 15)])\n",
    "              .assign(revenue=lambda df: df[\"l_extendedprice\"] * (1 - df[\"l_discount\"]))\n",
    "              .groupby([\"l_orderkey\", \"o_orderdate\", \"o_shippriority\"], as_index=False)\n",
    "              .agg({\"revenue\": \"sum\"})[[\"l_orderkey\", \"revenue\", \"o_orderdate\", \"o_shippriority\"]]\n",
    "              .sort_values([\"revenue\", \"o_orderdate\"], ascending=[False, True])\n",
    "              .reset_index(drop=True)            \n",
    "              .head(10)\n",
    "              .to_parquet(os.path.join(datapath, f\"{m_name}_q3_result.parquet\"))      \n",
    "        )"
   ]
  },
  {
   "cell_type": "code",
   "execution_count": 10,
   "id": "9c512b2a-afd8-418f-b571-d64a5f58337c",
   "metadata": {},
   "outputs": [],
   "source": [
    "import os\n",
    "import datetime\n",
    "from linetimer import CodeTimer\n",
    "\n",
    "def optimized_q3(datapath):\n",
    "    m_name = getattr(pd.__spec__.loader, \"fast_lib\", pd.__name__).split(\".\")[0]\n",
    "    \n",
    "    # to avoid some incompatibility issues in cuDF pandas    \n",
    "    dt_cons = datetime.datetime if m_name == \"cudf\" else datetime.date\n",
    "\n",
    "    with CodeTimer(name=f\"Overall execution of optimized_q3 using {m_name}\", unit=\"s\"):\n",
    "        # load only required columns from respective tables\n",
    "        req_customer_cols = [\"c_custkey\", \"c_mktsegment\"] # (2/8)\n",
    "        req_lineitem_cols = [\"l_orderkey\", \"l_shipdate\", \"l_extendedprice\", \"l_discount\"] #(4/16)\n",
    "        req_orders_cols = [\"o_custkey\", \"o_orderkey\", \"o_orderdate\", \"o_shippriority\"] #(4/9)\n",
    "        customer = pd.read_parquet(os.path.join(datapath, \"customer.parquet\"), columns = req_customer_cols)\n",
    "        lineitem =  pd.read_parquet(os.path.join(datapath, \"lineitem.parquet\"), columns = req_lineitem_cols)\n",
    "        orders =  pd.read_parquet(os.path.join(datapath, \"orders.parquet\"), columns = req_orders_cols)\n",
    "    \n",
    "        # advanced-filter: to reduce scope of “customer” table to be processed\n",
    "        f_cust = customer[customer[\"c_mktsegment\"] == \"BUILDING\"]\n",
    "\n",
    "        # advanced-filter: to reduce scope of “orders” table to be processed\n",
    "        f_ord = orders[orders[\"o_orderdate\"] < dt_cons(1995, 3, 15)]\n",
    "\n",
    "        # advanced-filter: to reduce scope of “lineitem” table to be processed\n",
    "        f_litem = lineitem[lineitem[\"l_shipdate\"] > dt_cons(1995, 3, 15)]\n",
    "\n",
    "        (\n",
    "            f_cust.merge(f_ord, left_on=\"c_custkey\", right_on=\"o_custkey\")\n",
    "                  .merge(f_litem, left_on=\"o_orderkey\", right_on=\"l_orderkey\")\n",
    "                  .assign(revenue=lambda df: df[\"l_extendedprice\"] * (1 - df[\"l_discount\"]))\n",
    "                  .groupby([\"l_orderkey\", \"o_orderdate\", \"o_shippriority\"], as_index=False)\n",
    "                  .agg({\"revenue\": \"sum\"})[[\"l_orderkey\", \"revenue\", \"o_orderdate\", \"o_shippriority\"]]\n",
    "                  .sort_values([\"revenue\", \"o_orderdate\"], ascending=[False, True])\n",
    "                  .reset_index(drop=True)\n",
    "                  .head(10)\n",
    "                  .to_parquet(os.path.join(datapath, f\"{m_name}_opt_q3_result.parquet\"))\n",
    "        )"
   ]
  },
  {
   "cell_type": "code",
   "execution_count": 11,
   "id": "f5debc40-bf00-4864-ac47-c48420c339a4",
   "metadata": {},
   "outputs": [],
   "source": [
    "datapath = \"polars-tpch/data/tables/scale-10.0\""
   ]
  },
  {
   "cell_type": "markdown",
   "id": "9e4b7368-35bb-4529-842b-692178a1167f",
   "metadata": {},
   "source": [
    "##  Native-pandas"
   ]
  },
  {
   "cell_type": "code",
   "execution_count": 12,
   "id": "b874fd51-4304-4bef-9438-a0690ff65113",
   "metadata": {},
   "outputs": [],
   "source": [
    "import pandas as pd # native pandas"
   ]
  },
  {
   "cell_type": "code",
   "execution_count": 13,
   "id": "780c3d33-f56e-4692-81bf-c5682c4efec9",
   "metadata": {},
   "outputs": [
    {
     "name": "stdout",
     "output_type": "stream",
     "text": [
      "Code block 'Overall execution of q3 using pandas' took: 202.74181 s\n"
     ]
    }
   ],
   "source": [
    "q3(datapath)"
   ]
  },
  {
   "cell_type": "code",
   "execution_count": 14,
   "id": "b29e6987-c4ae-48f6-99ed-5e366f915f36",
   "metadata": {},
   "outputs": [
    {
     "name": "stdout",
     "output_type": "stream",
     "text": [
      "Code block 'Overall execution of optimized_q3 using pandas' took: 17.28082 s\n"
     ]
    }
   ],
   "source": [
    "optimized_q3(datapath)"
   ]
  },
  {
   "cell_type": "markdown",
   "id": "a27de558-4f6a-4027-a614-e432ef890a96",
   "metadata": {},
   "source": [
    "##  FireDucks-pandas"
   ]
  },
  {
   "cell_type": "code",
   "execution_count": 15,
   "id": "9b0ade2a-114f-4b65-b50f-ae4bcc7dce7c",
   "metadata": {},
   "outputs": [],
   "source": [
    "%load_ext fireducks.pandas  \n",
    "import pandas as pd  # fireducks.pandas"
   ]
  },
  {
   "cell_type": "code",
   "execution_count": 16,
   "id": "adc82184-485d-4c38-b68b-ade83129dc6b",
   "metadata": {},
   "outputs": [
    {
     "name": "stdout",
     "output_type": "stream",
     "text": [
      "Code block 'Overall execution of q3 using fireducks' took: 1.66185 s\n"
     ]
    }
   ],
   "source": [
    "q3(datapath)"
   ]
  },
  {
   "cell_type": "code",
   "execution_count": 17,
   "id": "a0f55389-74cf-4333-bc9e-1597bb55d8f0",
   "metadata": {},
   "outputs": [
    {
     "name": "stdout",
     "output_type": "stream",
     "text": [
      "Code block 'Overall execution of optimized_q3 using fireducks' took: 1.60413 s\n"
     ]
    }
   ],
   "source": [
    "optimized_q3(datapath)"
   ]
  },
  {
   "cell_type": "code",
   "execution_count": 18,
   "id": "08582c78-a59d-43b3-a4fa-462caa303d87",
   "metadata": {},
   "outputs": [],
   "source": [
    "%unload_ext fireducks.pandas"
   ]
  },
  {
   "cell_type": "markdown",
   "id": "438ea8df-283f-4585-96e2-4dd5c73bbcff",
   "metadata": {},
   "source": [
    "##  cuDF-pandas"
   ]
  },
  {
   "cell_type": "code",
   "execution_count": 19,
   "id": "afbe4c57-6483-4892-91d6-52bbfe68200f",
   "metadata": {},
   "outputs": [],
   "source": [
    "%load_ext cudf.pandas\n",
    "import pandas as pd # cudf pandas"
   ]
  },
  {
   "cell_type": "code",
   "execution_count": 20,
   "id": "9261b974-cb3c-4e7e-a6b1-9b848694abf1",
   "metadata": {},
   "outputs": [
    {
     "name": "stdout",
     "output_type": "stream",
     "text": [
      "Code block 'Overall execution of q3 using cudf' took: 30.82411 s\n"
     ]
    }
   ],
   "source": [
    "q3(datapath)"
   ]
  },
  {
   "cell_type": "code",
   "execution_count": 21,
   "id": "fb903436-7108-440f-81a7-9a9b6372e19a",
   "metadata": {},
   "outputs": [
    {
     "name": "stdout",
     "output_type": "stream",
     "text": [
      "Code block 'Overall execution of optimized_q3 using cudf' took: 0.78262 s\n"
     ]
    }
   ],
   "source": [
    "optimized_q3(datapath)"
   ]
  },
  {
   "cell_type": "markdown",
   "id": "df80aca7-092a-47d4-b2a2-6d2be260be8c",
   "metadata": {},
   "source": [
    "##  Result-verification"
   ]
  },
  {
   "cell_type": "code",
   "execution_count": 22,
   "id": "e935f0db-24fc-4d41-b9ed-a43b3ec8b7bc",
   "metadata": {},
   "outputs": [],
   "source": [
    "r1 = pd.read_parquet(os.path.join(datapath, \"pandas_q3_result.parquet\"))\n",
    "r2 = pd.read_parquet(os.path.join(datapath, \"pandas_opt_q3_result.parquet\"))\n",
    "r3 = pd.read_parquet(os.path.join(datapath, \"fireducks_q3_result.parquet\"))\n",
    "r4 = pd.read_parquet(os.path.join(datapath, \"fireducks_opt_q3_result.parquet\"))\n",
    "r5 = pd.read_parquet(os.path.join(datapath, \"cudf_q3_result.parquet\"))\n",
    "r6 = pd.read_parquet(os.path.join(datapath, \"cudf_opt_q3_result.parquet\"))"
   ]
  },
  {
   "cell_type": "code",
   "execution_count": 23,
   "id": "27fa49a2-66d0-486d-baa0-2e32dc05445a",
   "metadata": {},
   "outputs": [
    {
     "data": {
      "text/html": [
       "<div>\n",
       "<style scoped>\n",
       "    .dataframe tbody tr th:only-of-type {\n",
       "        vertical-align: middle;\n",
       "    }\n",
       "\n",
       "    .dataframe tbody tr th {\n",
       "        vertical-align: top;\n",
       "    }\n",
       "\n",
       "    .dataframe thead th {\n",
       "        text-align: right;\n",
       "    }\n",
       "</style>\n",
       "<table border=\"1\" class=\"dataframe\">\n",
       "  <thead>\n",
       "    <tr style=\"text-align: right;\">\n",
       "      <th></th>\n",
       "      <th>l_orderkey</th>\n",
       "      <th>revenue</th>\n",
       "      <th>o_orderdate</th>\n",
       "      <th>o_shippriority</th>\n",
       "    </tr>\n",
       "  </thead>\n",
       "  <tbody>\n",
       "    <tr>\n",
       "      <th>0</th>\n",
       "      <td>4791171</td>\n",
       "      <td>440715.2185</td>\n",
       "      <td>1995-02-23</td>\n",
       "      <td>0</td>\n",
       "    </tr>\n",
       "    <tr>\n",
       "      <th>1</th>\n",
       "      <td>46678469</td>\n",
       "      <td>439855.3250</td>\n",
       "      <td>1995-01-27</td>\n",
       "      <td>0</td>\n",
       "    </tr>\n",
       "    <tr>\n",
       "      <th>2</th>\n",
       "      <td>23906758</td>\n",
       "      <td>432728.5737</td>\n",
       "      <td>1995-03-14</td>\n",
       "      <td>0</td>\n",
       "    </tr>\n",
       "    <tr>\n",
       "      <th>3</th>\n",
       "      <td>23861382</td>\n",
       "      <td>428739.1368</td>\n",
       "      <td>1995-03-09</td>\n",
       "      <td>0</td>\n",
       "    </tr>\n",
       "    <tr>\n",
       "      <th>4</th>\n",
       "      <td>59393639</td>\n",
       "      <td>426036.0662</td>\n",
       "      <td>1995-02-12</td>\n",
       "      <td>0</td>\n",
       "    </tr>\n",
       "    <tr>\n",
       "      <th>5</th>\n",
       "      <td>3355202</td>\n",
       "      <td>425100.6657</td>\n",
       "      <td>1995-03-04</td>\n",
       "      <td>0</td>\n",
       "    </tr>\n",
       "    <tr>\n",
       "      <th>6</th>\n",
       "      <td>9806272</td>\n",
       "      <td>425088.0568</td>\n",
       "      <td>1995-03-13</td>\n",
       "      <td>0</td>\n",
       "    </tr>\n",
       "    <tr>\n",
       "      <th>7</th>\n",
       "      <td>22810436</td>\n",
       "      <td>423231.9690</td>\n",
       "      <td>1995-01-02</td>\n",
       "      <td>0</td>\n",
       "    </tr>\n",
       "    <tr>\n",
       "      <th>8</th>\n",
       "      <td>16384100</td>\n",
       "      <td>421478.7294</td>\n",
       "      <td>1995-03-02</td>\n",
       "      <td>0</td>\n",
       "    </tr>\n",
       "    <tr>\n",
       "      <th>9</th>\n",
       "      <td>52974151</td>\n",
       "      <td>415367.1195</td>\n",
       "      <td>1995-02-05</td>\n",
       "      <td>0</td>\n",
       "    </tr>\n",
       "  </tbody>\n",
       "</table>\n",
       "</div>"
      ],
      "text/plain": [
       "   l_orderkey      revenue o_orderdate  o_shippriority\n",
       "0     4791171  440715.2185  1995-02-23               0\n",
       "1    46678469  439855.3250  1995-01-27               0\n",
       "2    23906758  432728.5737  1995-03-14               0\n",
       "3    23861382  428739.1368  1995-03-09               0\n",
       "4    59393639  426036.0662  1995-02-12               0\n",
       "5     3355202  425100.6657  1995-03-04               0\n",
       "6     9806272  425088.0568  1995-03-13               0\n",
       "7    22810436  423231.9690  1995-01-02               0\n",
       "8    16384100  421478.7294  1995-03-02               0\n",
       "9    52974151  415367.1195  1995-02-05               0"
      ]
     },
     "execution_count": 23,
     "metadata": {},
     "output_type": "execute_result"
    }
   ],
   "source": [
    "r1"
   ]
  },
  {
   "cell_type": "code",
   "execution_count": 24,
   "id": "32dd3874-f35c-4d44-a2c3-e35ba2a9f519",
   "metadata": {},
   "outputs": [
    {
     "data": {
      "text/html": [
       "<div>\n",
       "<style scoped>\n",
       "    .dataframe tbody tr th:only-of-type {\n",
       "        vertical-align: middle;\n",
       "    }\n",
       "\n",
       "    .dataframe tbody tr th {\n",
       "        vertical-align: top;\n",
       "    }\n",
       "\n",
       "    .dataframe thead th {\n",
       "        text-align: right;\n",
       "    }\n",
       "</style>\n",
       "<table border=\"1\" class=\"dataframe\">\n",
       "  <thead>\n",
       "    <tr style=\"text-align: right;\">\n",
       "      <th></th>\n",
       "      <th>l_orderkey</th>\n",
       "      <th>revenue</th>\n",
       "      <th>o_orderdate</th>\n",
       "      <th>o_shippriority</th>\n",
       "    </tr>\n",
       "  </thead>\n",
       "  <tbody>\n",
       "    <tr>\n",
       "      <th>0</th>\n",
       "      <td>4791171</td>\n",
       "      <td>440715.2185</td>\n",
       "      <td>1995-02-23</td>\n",
       "      <td>0</td>\n",
       "    </tr>\n",
       "    <tr>\n",
       "      <th>1</th>\n",
       "      <td>46678469</td>\n",
       "      <td>439855.3250</td>\n",
       "      <td>1995-01-27</td>\n",
       "      <td>0</td>\n",
       "    </tr>\n",
       "    <tr>\n",
       "      <th>2</th>\n",
       "      <td>23906758</td>\n",
       "      <td>432728.5737</td>\n",
       "      <td>1995-03-14</td>\n",
       "      <td>0</td>\n",
       "    </tr>\n",
       "    <tr>\n",
       "      <th>3</th>\n",
       "      <td>23861382</td>\n",
       "      <td>428739.1368</td>\n",
       "      <td>1995-03-09</td>\n",
       "      <td>0</td>\n",
       "    </tr>\n",
       "    <tr>\n",
       "      <th>4</th>\n",
       "      <td>59393639</td>\n",
       "      <td>426036.0662</td>\n",
       "      <td>1995-02-12</td>\n",
       "      <td>0</td>\n",
       "    </tr>\n",
       "    <tr>\n",
       "      <th>5</th>\n",
       "      <td>3355202</td>\n",
       "      <td>425100.6657</td>\n",
       "      <td>1995-03-04</td>\n",
       "      <td>0</td>\n",
       "    </tr>\n",
       "    <tr>\n",
       "      <th>6</th>\n",
       "      <td>9806272</td>\n",
       "      <td>425088.0568</td>\n",
       "      <td>1995-03-13</td>\n",
       "      <td>0</td>\n",
       "    </tr>\n",
       "    <tr>\n",
       "      <th>7</th>\n",
       "      <td>22810436</td>\n",
       "      <td>423231.9690</td>\n",
       "      <td>1995-01-02</td>\n",
       "      <td>0</td>\n",
       "    </tr>\n",
       "    <tr>\n",
       "      <th>8</th>\n",
       "      <td>16384100</td>\n",
       "      <td>421478.7294</td>\n",
       "      <td>1995-03-02</td>\n",
       "      <td>0</td>\n",
       "    </tr>\n",
       "    <tr>\n",
       "      <th>9</th>\n",
       "      <td>52974151</td>\n",
       "      <td>415367.1195</td>\n",
       "      <td>1995-02-05</td>\n",
       "      <td>0</td>\n",
       "    </tr>\n",
       "  </tbody>\n",
       "</table>\n",
       "</div>"
      ],
      "text/plain": [
       "   l_orderkey      revenue o_orderdate  o_shippriority\n",
       "0     4791171  440715.2185  1995-02-23               0\n",
       "1    46678469  439855.3250  1995-01-27               0\n",
       "2    23906758  432728.5737  1995-03-14               0\n",
       "3    23861382  428739.1368  1995-03-09               0\n",
       "4    59393639  426036.0662  1995-02-12               0\n",
       "5     3355202  425100.6657  1995-03-04               0\n",
       "6     9806272  425088.0568  1995-03-13               0\n",
       "7    22810436  423231.9690  1995-01-02               0\n",
       "8    16384100  421478.7294  1995-03-02               0\n",
       "9    52974151  415367.1195  1995-02-05               0"
      ]
     },
     "execution_count": 24,
     "metadata": {},
     "output_type": "execute_result"
    }
   ],
   "source": [
    "r2"
   ]
  },
  {
   "cell_type": "code",
   "execution_count": 25,
   "id": "5cd1cf4d-aedb-4276-8afb-6c0749d8feba",
   "metadata": {},
   "outputs": [
    {
     "data": {
      "text/html": [
       "<div>\n",
       "<style scoped>\n",
       "    .dataframe tbody tr th:only-of-type {\n",
       "        vertical-align: middle;\n",
       "    }\n",
       "\n",
       "    .dataframe tbody tr th {\n",
       "        vertical-align: top;\n",
       "    }\n",
       "\n",
       "    .dataframe thead th {\n",
       "        text-align: right;\n",
       "    }\n",
       "</style>\n",
       "<table border=\"1\" class=\"dataframe\">\n",
       "  <thead>\n",
       "    <tr style=\"text-align: right;\">\n",
       "      <th></th>\n",
       "      <th>l_orderkey</th>\n",
       "      <th>revenue</th>\n",
       "      <th>o_orderdate</th>\n",
       "      <th>o_shippriority</th>\n",
       "    </tr>\n",
       "  </thead>\n",
       "  <tbody>\n",
       "    <tr>\n",
       "      <th>0</th>\n",
       "      <td>4791171</td>\n",
       "      <td>440715.2185</td>\n",
       "      <td>1995-02-23</td>\n",
       "      <td>0</td>\n",
       "    </tr>\n",
       "    <tr>\n",
       "      <th>1</th>\n",
       "      <td>46678469</td>\n",
       "      <td>439855.3250</td>\n",
       "      <td>1995-01-27</td>\n",
       "      <td>0</td>\n",
       "    </tr>\n",
       "    <tr>\n",
       "      <th>2</th>\n",
       "      <td>23906758</td>\n",
       "      <td>432728.5737</td>\n",
       "      <td>1995-03-14</td>\n",
       "      <td>0</td>\n",
       "    </tr>\n",
       "    <tr>\n",
       "      <th>3</th>\n",
       "      <td>23861382</td>\n",
       "      <td>428739.1368</td>\n",
       "      <td>1995-03-09</td>\n",
       "      <td>0</td>\n",
       "    </tr>\n",
       "    <tr>\n",
       "      <th>4</th>\n",
       "      <td>59393639</td>\n",
       "      <td>426036.0662</td>\n",
       "      <td>1995-02-12</td>\n",
       "      <td>0</td>\n",
       "    </tr>\n",
       "    <tr>\n",
       "      <th>5</th>\n",
       "      <td>3355202</td>\n",
       "      <td>425100.6657</td>\n",
       "      <td>1995-03-04</td>\n",
       "      <td>0</td>\n",
       "    </tr>\n",
       "    <tr>\n",
       "      <th>6</th>\n",
       "      <td>9806272</td>\n",
       "      <td>425088.0568</td>\n",
       "      <td>1995-03-13</td>\n",
       "      <td>0</td>\n",
       "    </tr>\n",
       "    <tr>\n",
       "      <th>7</th>\n",
       "      <td>22810436</td>\n",
       "      <td>423231.9690</td>\n",
       "      <td>1995-01-02</td>\n",
       "      <td>0</td>\n",
       "    </tr>\n",
       "    <tr>\n",
       "      <th>8</th>\n",
       "      <td>16384100</td>\n",
       "      <td>421478.7294</td>\n",
       "      <td>1995-03-02</td>\n",
       "      <td>0</td>\n",
       "    </tr>\n",
       "    <tr>\n",
       "      <th>9</th>\n",
       "      <td>52974151</td>\n",
       "      <td>415367.1195</td>\n",
       "      <td>1995-02-05</td>\n",
       "      <td>0</td>\n",
       "    </tr>\n",
       "  </tbody>\n",
       "</table>\n",
       "</div>"
      ],
      "text/plain": [
       "   l_orderkey      revenue o_orderdate  o_shippriority\n",
       "0     4791171  440715.2185  1995-02-23               0\n",
       "1    46678469  439855.3250  1995-01-27               0\n",
       "2    23906758  432728.5737  1995-03-14               0\n",
       "3    23861382  428739.1368  1995-03-09               0\n",
       "4    59393639  426036.0662  1995-02-12               0\n",
       "5     3355202  425100.6657  1995-03-04               0\n",
       "6     9806272  425088.0568  1995-03-13               0\n",
       "7    22810436  423231.9690  1995-01-02               0\n",
       "8    16384100  421478.7294  1995-03-02               0\n",
       "9    52974151  415367.1195  1995-02-05               0"
      ]
     },
     "execution_count": 25,
     "metadata": {},
     "output_type": "execute_result"
    }
   ],
   "source": [
    "r3"
   ]
  },
  {
   "cell_type": "code",
   "execution_count": 26,
   "id": "f4257e45-e5be-47ec-80d5-cc737419c7df",
   "metadata": {},
   "outputs": [
    {
     "data": {
      "text/html": [
       "<div>\n",
       "<style scoped>\n",
       "    .dataframe tbody tr th:only-of-type {\n",
       "        vertical-align: middle;\n",
       "    }\n",
       "\n",
       "    .dataframe tbody tr th {\n",
       "        vertical-align: top;\n",
       "    }\n",
       "\n",
       "    .dataframe thead th {\n",
       "        text-align: right;\n",
       "    }\n",
       "</style>\n",
       "<table border=\"1\" class=\"dataframe\">\n",
       "  <thead>\n",
       "    <tr style=\"text-align: right;\">\n",
       "      <th></th>\n",
       "      <th>l_orderkey</th>\n",
       "      <th>revenue</th>\n",
       "      <th>o_orderdate</th>\n",
       "      <th>o_shippriority</th>\n",
       "    </tr>\n",
       "  </thead>\n",
       "  <tbody>\n",
       "    <tr>\n",
       "      <th>0</th>\n",
       "      <td>4791171</td>\n",
       "      <td>440715.2185</td>\n",
       "      <td>1995-02-23</td>\n",
       "      <td>0</td>\n",
       "    </tr>\n",
       "    <tr>\n",
       "      <th>1</th>\n",
       "      <td>46678469</td>\n",
       "      <td>439855.3250</td>\n",
       "      <td>1995-01-27</td>\n",
       "      <td>0</td>\n",
       "    </tr>\n",
       "    <tr>\n",
       "      <th>2</th>\n",
       "      <td>23906758</td>\n",
       "      <td>432728.5737</td>\n",
       "      <td>1995-03-14</td>\n",
       "      <td>0</td>\n",
       "    </tr>\n",
       "    <tr>\n",
       "      <th>3</th>\n",
       "      <td>23861382</td>\n",
       "      <td>428739.1368</td>\n",
       "      <td>1995-03-09</td>\n",
       "      <td>0</td>\n",
       "    </tr>\n",
       "    <tr>\n",
       "      <th>4</th>\n",
       "      <td>59393639</td>\n",
       "      <td>426036.0662</td>\n",
       "      <td>1995-02-12</td>\n",
       "      <td>0</td>\n",
       "    </tr>\n",
       "    <tr>\n",
       "      <th>5</th>\n",
       "      <td>3355202</td>\n",
       "      <td>425100.6657</td>\n",
       "      <td>1995-03-04</td>\n",
       "      <td>0</td>\n",
       "    </tr>\n",
       "    <tr>\n",
       "      <th>6</th>\n",
       "      <td>9806272</td>\n",
       "      <td>425088.0568</td>\n",
       "      <td>1995-03-13</td>\n",
       "      <td>0</td>\n",
       "    </tr>\n",
       "    <tr>\n",
       "      <th>7</th>\n",
       "      <td>22810436</td>\n",
       "      <td>423231.9690</td>\n",
       "      <td>1995-01-02</td>\n",
       "      <td>0</td>\n",
       "    </tr>\n",
       "    <tr>\n",
       "      <th>8</th>\n",
       "      <td>16384100</td>\n",
       "      <td>421478.7294</td>\n",
       "      <td>1995-03-02</td>\n",
       "      <td>0</td>\n",
       "    </tr>\n",
       "    <tr>\n",
       "      <th>9</th>\n",
       "      <td>52974151</td>\n",
       "      <td>415367.1195</td>\n",
       "      <td>1995-02-05</td>\n",
       "      <td>0</td>\n",
       "    </tr>\n",
       "  </tbody>\n",
       "</table>\n",
       "</div>"
      ],
      "text/plain": [
       "   l_orderkey      revenue o_orderdate  o_shippriority\n",
       "0     4791171  440715.2185  1995-02-23               0\n",
       "1    46678469  439855.3250  1995-01-27               0\n",
       "2    23906758  432728.5737  1995-03-14               0\n",
       "3    23861382  428739.1368  1995-03-09               0\n",
       "4    59393639  426036.0662  1995-02-12               0\n",
       "5     3355202  425100.6657  1995-03-04               0\n",
       "6     9806272  425088.0568  1995-03-13               0\n",
       "7    22810436  423231.9690  1995-01-02               0\n",
       "8    16384100  421478.7294  1995-03-02               0\n",
       "9    52974151  415367.1195  1995-02-05               0"
      ]
     },
     "execution_count": 26,
     "metadata": {},
     "output_type": "execute_result"
    }
   ],
   "source": [
    "r4"
   ]
  },
  {
   "cell_type": "code",
   "execution_count": 27,
   "id": "f1e61984-7748-4df9-bc84-7c837837306d",
   "metadata": {},
   "outputs": [
    {
     "data": {
      "text/html": [
       "<div>\n",
       "<style scoped>\n",
       "    .dataframe tbody tr th:only-of-type {\n",
       "        vertical-align: middle;\n",
       "    }\n",
       "\n",
       "    .dataframe tbody tr th {\n",
       "        vertical-align: top;\n",
       "    }\n",
       "\n",
       "    .dataframe thead th {\n",
       "        text-align: right;\n",
       "    }\n",
       "</style>\n",
       "<table border=\"1\" class=\"dataframe\">\n",
       "  <thead>\n",
       "    <tr style=\"text-align: right;\">\n",
       "      <th></th>\n",
       "      <th>l_orderkey</th>\n",
       "      <th>revenue</th>\n",
       "      <th>o_orderdate</th>\n",
       "      <th>o_shippriority</th>\n",
       "    </tr>\n",
       "  </thead>\n",
       "  <tbody>\n",
       "    <tr>\n",
       "      <th>0</th>\n",
       "      <td>4791171</td>\n",
       "      <td>440715.2185</td>\n",
       "      <td>1995-02-23</td>\n",
       "      <td>0</td>\n",
       "    </tr>\n",
       "    <tr>\n",
       "      <th>1</th>\n",
       "      <td>46678469</td>\n",
       "      <td>439855.3250</td>\n",
       "      <td>1995-01-27</td>\n",
       "      <td>0</td>\n",
       "    </tr>\n",
       "    <tr>\n",
       "      <th>2</th>\n",
       "      <td>23906758</td>\n",
       "      <td>432728.5737</td>\n",
       "      <td>1995-03-14</td>\n",
       "      <td>0</td>\n",
       "    </tr>\n",
       "    <tr>\n",
       "      <th>3</th>\n",
       "      <td>23861382</td>\n",
       "      <td>428739.1368</td>\n",
       "      <td>1995-03-09</td>\n",
       "      <td>0</td>\n",
       "    </tr>\n",
       "    <tr>\n",
       "      <th>4</th>\n",
       "      <td>59393639</td>\n",
       "      <td>426036.0662</td>\n",
       "      <td>1995-02-12</td>\n",
       "      <td>0</td>\n",
       "    </tr>\n",
       "    <tr>\n",
       "      <th>5</th>\n",
       "      <td>3355202</td>\n",
       "      <td>425100.6657</td>\n",
       "      <td>1995-03-04</td>\n",
       "      <td>0</td>\n",
       "    </tr>\n",
       "    <tr>\n",
       "      <th>6</th>\n",
       "      <td>9806272</td>\n",
       "      <td>425088.0568</td>\n",
       "      <td>1995-03-13</td>\n",
       "      <td>0</td>\n",
       "    </tr>\n",
       "    <tr>\n",
       "      <th>7</th>\n",
       "      <td>22810436</td>\n",
       "      <td>423231.9690</td>\n",
       "      <td>1995-01-02</td>\n",
       "      <td>0</td>\n",
       "    </tr>\n",
       "    <tr>\n",
       "      <th>8</th>\n",
       "      <td>16384100</td>\n",
       "      <td>421478.7294</td>\n",
       "      <td>1995-03-02</td>\n",
       "      <td>0</td>\n",
       "    </tr>\n",
       "    <tr>\n",
       "      <th>9</th>\n",
       "      <td>52974151</td>\n",
       "      <td>415367.1195</td>\n",
       "      <td>1995-02-05</td>\n",
       "      <td>0</td>\n",
       "    </tr>\n",
       "  </tbody>\n",
       "</table>\n",
       "</div>"
      ],
      "text/plain": [
       "   l_orderkey      revenue o_orderdate  o_shippriority\n",
       "0     4791171  440715.2185  1995-02-23               0\n",
       "1    46678469  439855.3250  1995-01-27               0\n",
       "2    23906758  432728.5737  1995-03-14               0\n",
       "3    23861382  428739.1368  1995-03-09               0\n",
       "4    59393639  426036.0662  1995-02-12               0\n",
       "5     3355202  425100.6657  1995-03-04               0\n",
       "6     9806272  425088.0568  1995-03-13               0\n",
       "7    22810436  423231.9690  1995-01-02               0\n",
       "8    16384100  421478.7294  1995-03-02               0\n",
       "9    52974151  415367.1195  1995-02-05               0"
      ]
     },
     "execution_count": 27,
     "metadata": {},
     "output_type": "execute_result"
    }
   ],
   "source": [
    "r5"
   ]
  },
  {
   "cell_type": "code",
   "execution_count": 28,
   "id": "051f2bd9-c037-44f0-add4-f10d193c6701",
   "metadata": {},
   "outputs": [
    {
     "data": {
      "text/html": [
       "<div>\n",
       "<style scoped>\n",
       "    .dataframe tbody tr th:only-of-type {\n",
       "        vertical-align: middle;\n",
       "    }\n",
       "\n",
       "    .dataframe tbody tr th {\n",
       "        vertical-align: top;\n",
       "    }\n",
       "\n",
       "    .dataframe thead th {\n",
       "        text-align: right;\n",
       "    }\n",
       "</style>\n",
       "<table border=\"1\" class=\"dataframe\">\n",
       "  <thead>\n",
       "    <tr style=\"text-align: right;\">\n",
       "      <th></th>\n",
       "      <th>l_orderkey</th>\n",
       "      <th>revenue</th>\n",
       "      <th>o_orderdate</th>\n",
       "      <th>o_shippriority</th>\n",
       "    </tr>\n",
       "  </thead>\n",
       "  <tbody>\n",
       "    <tr>\n",
       "      <th>0</th>\n",
       "      <td>4791171</td>\n",
       "      <td>440715.2185</td>\n",
       "      <td>1995-02-23</td>\n",
       "      <td>0</td>\n",
       "    </tr>\n",
       "    <tr>\n",
       "      <th>1</th>\n",
       "      <td>46678469</td>\n",
       "      <td>439855.3250</td>\n",
       "      <td>1995-01-27</td>\n",
       "      <td>0</td>\n",
       "    </tr>\n",
       "    <tr>\n",
       "      <th>2</th>\n",
       "      <td>23906758</td>\n",
       "      <td>432728.5737</td>\n",
       "      <td>1995-03-14</td>\n",
       "      <td>0</td>\n",
       "    </tr>\n",
       "    <tr>\n",
       "      <th>3</th>\n",
       "      <td>23861382</td>\n",
       "      <td>428739.1368</td>\n",
       "      <td>1995-03-09</td>\n",
       "      <td>0</td>\n",
       "    </tr>\n",
       "    <tr>\n",
       "      <th>4</th>\n",
       "      <td>59393639</td>\n",
       "      <td>426036.0662</td>\n",
       "      <td>1995-02-12</td>\n",
       "      <td>0</td>\n",
       "    </tr>\n",
       "    <tr>\n",
       "      <th>5</th>\n",
       "      <td>3355202</td>\n",
       "      <td>425100.6657</td>\n",
       "      <td>1995-03-04</td>\n",
       "      <td>0</td>\n",
       "    </tr>\n",
       "    <tr>\n",
       "      <th>6</th>\n",
       "      <td>9806272</td>\n",
       "      <td>425088.0568</td>\n",
       "      <td>1995-03-13</td>\n",
       "      <td>0</td>\n",
       "    </tr>\n",
       "    <tr>\n",
       "      <th>7</th>\n",
       "      <td>22810436</td>\n",
       "      <td>423231.9690</td>\n",
       "      <td>1995-01-02</td>\n",
       "      <td>0</td>\n",
       "    </tr>\n",
       "    <tr>\n",
       "      <th>8</th>\n",
       "      <td>16384100</td>\n",
       "      <td>421478.7294</td>\n",
       "      <td>1995-03-02</td>\n",
       "      <td>0</td>\n",
       "    </tr>\n",
       "    <tr>\n",
       "      <th>9</th>\n",
       "      <td>52974151</td>\n",
       "      <td>415367.1195</td>\n",
       "      <td>1995-02-05</td>\n",
       "      <td>0</td>\n",
       "    </tr>\n",
       "  </tbody>\n",
       "</table>\n",
       "</div>"
      ],
      "text/plain": [
       "   l_orderkey      revenue o_orderdate  o_shippriority\n",
       "0     4791171  440715.2185  1995-02-23               0\n",
       "1    46678469  439855.3250  1995-01-27               0\n",
       "2    23906758  432728.5737  1995-03-14               0\n",
       "3    23861382  428739.1368  1995-03-09               0\n",
       "4    59393639  426036.0662  1995-02-12               0\n",
       "5     3355202  425100.6657  1995-03-04               0\n",
       "6     9806272  425088.0568  1995-03-13               0\n",
       "7    22810436  423231.9690  1995-01-02               0\n",
       "8    16384100  421478.7294  1995-03-02               0\n",
       "9    52974151  415367.1195  1995-02-05               0"
      ]
     },
     "execution_count": 28,
     "metadata": {},
     "output_type": "execute_result"
    }
   ],
   "source": [
    "r6"
   ]
  },
  {
   "cell_type": "markdown",
   "id": "bb91f8e2-ffb8-4795-9fa3-090b9b5030f3",
   "metadata": {},
   "source": [
    "##  Cleanup"
   ]
  },
  {
   "cell_type": "code",
   "execution_count": 29,
   "id": "dbdbcb6a-33d3-4c59-8518-41903bcfd55d",
   "metadata": {},
   "outputs": [],
   "source": [
    "!rm -rf polars-tpch/data/tables"
   ]
  }
 ],
 "metadata": {
  "kernelspec": {
   "display_name": "Python 3 (ipykernel)",
   "language": "python",
   "name": "python3"
  },
  "language_info": {
   "codemirror_mode": {
    "name": "ipython",
    "version": 3
   },
   "file_extension": ".py",
   "mimetype": "text/x-python",
   "name": "python",
   "nbconvert_exporter": "python",
   "pygments_lexer": "ipython3",
   "version": "3.11.11"
  }
 },
 "nbformat": 4,
 "nbformat_minor": 5
}
