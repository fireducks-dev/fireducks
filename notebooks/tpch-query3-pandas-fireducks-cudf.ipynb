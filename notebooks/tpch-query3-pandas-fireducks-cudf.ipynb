{
 "cells": [
  {
   "cell_type": "markdown",
   "id": "a1718ee3-6e10-41d6-a4c5-2050ae23693a",
   "metadata": {},
   "source": [
    "# Demonstrating true strength of FireDucks in Query planning and optimization\n",
    "\n",
    "The [TPC-H](https://www.tpc.org/tpch/) is a decision support benchmark that consists of a suite of business-oriented ad-hoc queries and concurrent data modifications. We will use [Query-3](https://www.tpc.org/TPC_Documents_Current_Versions/pdf/TPC-H_v3.0.1.pdf#page=33) in this demonstration that deals with three large tables, namely `lineitem`, `customer`, and `orders` with complex join, gorupby, sort etc."
   ]
  },
  {
   "cell_type": "markdown",
   "id": "9da844d3-f9c6-4841-b245-5ba1524814fe",
   "metadata": {},
   "source": [
    "##  Preparing Data (Scale Factor: 10) "
   ]
  },
  {
   "cell_type": "code",
   "execution_count": 1,
   "id": "72500439-c98b-4e52-9ffa-b14ae5461a9a",
   "metadata": {},
   "outputs": [],
   "source": [
    "!pip install -q -U fireducks pydantic pydantic_settings linetimer"
   ]
  },
  {
   "cell_type": "code",
   "execution_count": 2,
   "id": "229a503d-ff9a-448c-ac26-ebaafda1c5df",
   "metadata": {},
   "outputs": [
    {
     "name": "stdout",
     "output_type": "stream",
     "text": [
      "fatal: destination path 'polars-tpch' already exists and is not an empty directory.\n"
     ]
    }
   ],
   "source": [
    "!git clone https://github.com/fireducks-dev/polars-tpch.git"
   ]
  },
  {
   "cell_type": "code",
   "execution_count": null,
   "id": "c494d4e0-55e9-4b0f-821b-fab7a0bd1821",
   "metadata": {},
   "outputs": [
    {
     "name": "stdout",
     "output_type": "stream",
     "text": [
      "make: Nothing to be done for 'all'.\n",
      "TPC-H Population Generator (Version 2.17.2)\n",
      "Copyright Transaction Processing Performance Council 1994 - 2010\n"
     ]
    }
   ],
   "source": [
    "!mkdir -p polars-tpch/data/tables/scale-10.0\n",
    "!cd polars-tpch/tpch-dbgen; make; ./dbgen -s 10; mv *.tbl ../data/tables/scale-10.0"
   ]
  },
  {
   "cell_type": "code",
   "execution_count": null,
   "id": "5953059e-31ce-4a77-b14d-52f5326b6a84",
   "metadata": {},
   "outputs": [],
   "source": [
    "!ls polars-tpch/data/tables/*"
   ]
  },
  {
   "cell_type": "code",
   "execution_count": null,
   "id": "6d4360ce-933d-43a4-a971-4de48b6f2cbf",
   "metadata": {},
   "outputs": [],
   "source": [
    "# generating parquet files with header from the above .tbl files\n",
    "!cd polars-tpch; PATH_TABLES=data/tables SCALE_FACTOR=10.0 python -m scripts.prepare_data_pyarrow"
   ]
  },
  {
   "cell_type": "code",
   "execution_count": null,
   "id": "1af48eb1-6ea9-4650-9df4-8bdf8cb596e1",
   "metadata": {},
   "outputs": [],
   "source": [
    "!ls polars-tpch/data/tables/*"
   ]
  },
  {
   "cell_type": "markdown",
   "id": "b8204f0a-db10-4911-8dbe-84b739316b15",
   "metadata": {},
   "source": [
    "## Checking Evaluation Environments"
   ]
  },
  {
   "cell_type": "code",
   "execution_count": null,
   "id": "51f5c8dc-30aa-4968-b817-a0f265dbf20d",
   "metadata": {},
   "outputs": [],
   "source": [
    "import platform, psutil\n",
    "print(\"=\"*30, \"Evaluation Environment Information\", \"=\"*30)\n",
    "print(f'platform: {platform.system()}')\n",
    "print(f'architecture: {platform.machine()}')\n",
    "print(f'processor: {platform.processor()}')\n",
    "print(f'cpu: {psutil.cpu_count()}')"
   ]
  },
  {
   "cell_type": "code",
   "execution_count": null,
   "id": "28455ba7-e67d-4cc5-ba13-adac088104a4",
   "metadata": {},
   "outputs": [],
   "source": [
    "!nvidia-smi"
   ]
  },
  {
   "cell_type": "markdown",
   "id": "69296865-9c92-43ef-8f85-4796423b8142",
   "metadata": {},
   "source": [
    "##  Defining Query"
   ]
  },
  {
   "cell_type": "code",
   "execution_count": null,
   "id": "64250738-a610-4209-b9d6-33a85b2e963e",
   "metadata": {},
   "outputs": [],
   "source": [
    "import os\n",
    "import datetime\n",
    "from linetimer import CodeTimer\n",
    "\n",
    "# REF: https://www.tpc.org/TPC_Documents_Current_Versions/pdf/TPC-H_v3.0.1.pdf#page=33\n",
    "def q3(datapath):\n",
    "    m_name = getattr(pd.__spec__.loader, \"fast_lib\", pd.__name__).split(\".\")[0]\n",
    "    \n",
    "    # to avoid some incompatibility issues in cuDF pandas\n",
    "    dt_cons = datetime.datetime if m_name == \"cudf\" else datetime.date\n",
    "\n",
    "    with CodeTimer(name=f\"Overall execution of q3 using {m_name}\", unit=\"s\"):    \n",
    "        (\n",
    "            pd.read_parquet(os.path.join(datapath, \"customer.parquet\"))\n",
    "              .merge(pd.read_parquet(os.path.join(datapath, \"orders.parquet\")), \n",
    "                     left_on=\"c_custkey\", right_on=\"o_custkey\")\n",
    "              .merge(pd.read_parquet(os.path.join(datapath, \"lineitem.parquet\")), \n",
    "                     left_on=\"o_orderkey\", right_on=\"l_orderkey\")\n",
    "              .pipe(lambda df: df[df[\"c_mktsegment\"] == \"BUILDING\"])\n",
    "              .pipe(lambda df: df[df[\"o_orderdate\"] < dt_cons(1995, 3, 15)])\n",
    "              .pipe(lambda df: df[df[\"l_shipdate\"] > dt_cons(1995, 3, 15)])\n",
    "              .assign(revenue=lambda df: df[\"l_extendedprice\"] * (1 - df[\"l_discount\"]))\n",
    "              .groupby([\"l_orderkey\", \"o_orderdate\", \"o_shippriority\"], as_index=False)\n",
    "              .agg({\"revenue\": \"sum\"})[[\"l_orderkey\", \"revenue\", \"o_orderdate\", \"o_shippriority\"]]\n",
    "              .sort_values([\"revenue\", \"o_orderdate\"], ascending=[False, True])\n",
    "              .reset_index(drop=True)            \n",
    "              .head(10)\n",
    "              .to_parquet(os.path.join(datapath, f\"{m_name}_q3_result.parquet\"))      \n",
    "        )"
   ]
  },
  {
   "cell_type": "code",
   "execution_count": null,
   "id": "9c512b2a-afd8-418f-b571-d64a5f58337c",
   "metadata": {},
   "outputs": [],
   "source": [
    "import os\n",
    "import datetime\n",
    "from linetimer import CodeTimer\n",
    "\n",
    "def optimized_q3(datapath):\n",
    "    m_name = getattr(pd.__spec__.loader, \"fast_lib\", pd.__name__).split(\".\")[0]\n",
    "    \n",
    "    # to avoid some incompatibility issues in cuDF pandas    \n",
    "    dt_cons = datetime.datetime if m_name == \"cudf\" else datetime.date\n",
    "\n",
    "    with CodeTimer(name=f\"Overall execution of optimized_q3 using {m_name}\", unit=\"s\"):\n",
    "        # load only required columns from respective tables\n",
    "        req_customer_cols = [\"c_custkey\", \"c_mktsegment\"] # (2/8)\n",
    "        req_lineitem_cols = [\"l_orderkey\", \"l_shipdate\", \"l_extendedprice\", \"l_discount\"] #(4/16)\n",
    "        req_orders_cols = [\"o_custkey\", \"o_orderkey\", \"o_orderdate\", \"o_shippriority\"] #(4/9)\n",
    "        customer = pd.read_parquet(os.path.join(datapath, \"customer.parquet\"), columns = req_customer_cols)\n",
    "        lineitem =  pd.read_parquet(os.path.join(datapath, \"lineitem.parquet\"), columns = req_lineitem_cols)\n",
    "        orders =  pd.read_parquet(os.path.join(datapath, \"orders.parquet\"), columns = req_orders_cols)\n",
    "    \n",
    "        # advanced-filter: to reduce scope of “customer” table to be processed\n",
    "        f_cust = customer[customer[\"c_mktsegment\"] == \"BUILDING\"]\n",
    "\n",
    "        # advanced-filter: to reduce scope of “orders” table to be processed\n",
    "        f_ord = orders[orders[\"o_orderdate\"] < dt_cons(1995, 3, 15)]\n",
    "\n",
    "        # advanced-filter: to reduce scope of “lineitem” table to be processed\n",
    "        f_litem = lineitem[lineitem[\"l_shipdate\"] > dt_cons(1995, 3, 15)]\n",
    "\n",
    "        (\n",
    "            f_cust.merge(f_ord, left_on=\"c_custkey\", right_on=\"o_custkey\")\n",
    "                  .merge(f_litem, left_on=\"o_orderkey\", right_on=\"l_orderkey\")\n",
    "                  .assign(revenue=lambda df: df[\"l_extendedprice\"] * (1 - df[\"l_discount\"]))\n",
    "                  .groupby([\"l_orderkey\", \"o_orderdate\", \"o_shippriority\"], as_index=False)\n",
    "                  .agg({\"revenue\": \"sum\"})[[\"l_orderkey\", \"revenue\", \"o_orderdate\", \"o_shippriority\"]]\n",
    "                  .sort_values([\"revenue\", \"o_orderdate\"], ascending=[False, True])\n",
    "                  .reset_index(drop=True)\n",
    "                  .head(10)\n",
    "                  .to_parquet(os.path.join(datapath, f\"{m_name}_opt_q3_result.parquet\"))\n",
    "        )"
   ]
  },
  {
   "cell_type": "code",
   "execution_count": null,
   "id": "f5debc40-bf00-4864-ac47-c48420c339a4",
   "metadata": {},
   "outputs": [],
   "source": [
    "datapath = \"polars-tpch/data/tables/scale-10.0\""
   ]
  },
  {
   "cell_type": "markdown",
   "id": "9e4b7368-35bb-4529-842b-692178a1167f",
   "metadata": {},
   "source": [
    "##  Native-pandas"
   ]
  },
  {
   "cell_type": "code",
   "execution_count": null,
   "id": "b874fd51-4304-4bef-9438-a0690ff65113",
   "metadata": {},
   "outputs": [],
   "source": [
    "import pandas as pd # native pandas"
   ]
  },
  {
   "cell_type": "code",
   "execution_count": null,
   "id": "780c3d33-f56e-4692-81bf-c5682c4efec9",
   "metadata": {},
   "outputs": [],
   "source": [
    "q3(datapath)"
   ]
  },
  {
   "cell_type": "code",
   "execution_count": null,
   "id": "b29e6987-c4ae-48f6-99ed-5e366f915f36",
   "metadata": {},
   "outputs": [],
   "source": [
    "optimized_q3(datapath)"
   ]
  },
  {
   "cell_type": "markdown",
   "id": "a27de558-4f6a-4027-a614-e432ef890a96",
   "metadata": {},
   "source": [
    "##  FireDucks-pandas"
   ]
  },
  {
   "cell_type": "code",
   "execution_count": null,
   "id": "9b0ade2a-114f-4b65-b50f-ae4bcc7dce7c",
   "metadata": {},
   "outputs": [],
   "source": [
    "%load_ext fireducks.pandas  \n",
    "import pandas as pd  # fireducks.pandas"
   ]
  },
  {
   "cell_type": "code",
   "execution_count": null,
   "id": "adc82184-485d-4c38-b68b-ade83129dc6b",
   "metadata": {},
   "outputs": [],
   "source": [
    "q3(datapath)"
   ]
  },
  {
   "cell_type": "code",
   "execution_count": null,
   "id": "a0f55389-74cf-4333-bc9e-1597bb55d8f0",
   "metadata": {},
   "outputs": [],
   "source": [
    "optimized_q3(datapath)"
   ]
  },
  {
   "cell_type": "code",
   "execution_count": null,
   "id": "08582c78-a59d-43b3-a4fa-462caa303d87",
   "metadata": {},
   "outputs": [],
   "source": [
    "%unload_ext fireducks.pandas"
   ]
  },
  {
   "cell_type": "markdown",
   "id": "438ea8df-283f-4585-96e2-4dd5c73bbcff",
   "metadata": {},
   "source": [
    "##  cuDF-pandas"
   ]
  },
  {
   "cell_type": "code",
   "execution_count": null,
   "id": "afbe4c57-6483-4892-91d6-52bbfe68200f",
   "metadata": {},
   "outputs": [],
   "source": [
    "%load_ext cudf.pandas\n",
    "import pandas as pd # cudf pandas"
   ]
  },
  {
   "cell_type": "code",
   "execution_count": null,
   "id": "9261b974-cb3c-4e7e-a6b1-9b848694abf1",
   "metadata": {},
   "outputs": [],
   "source": [
    "q3(datapath)"
   ]
  },
  {
   "cell_type": "code",
   "execution_count": null,
   "id": "fb903436-7108-440f-81a7-9a9b6372e19a",
   "metadata": {},
   "outputs": [],
   "source": [
    "optimized_q3(datapath)"
   ]
  },
  {
   "cell_type": "markdown",
   "id": "df80aca7-092a-47d4-b2a2-6d2be260be8c",
   "metadata": {},
   "source": [
    "##  Result-verification"
   ]
  },
  {
   "cell_type": "code",
   "execution_count": null,
   "id": "e935f0db-24fc-4d41-b9ed-a43b3ec8b7bc",
   "metadata": {},
   "outputs": [],
   "source": [
    "r1 = pd.read_parquet(os.path.join(datapath, \"pandas_q3_result.parquet\"))\n",
    "r2 = pd.read_parquet(os.path.join(datapath, \"pandas_opt_q3_result.parquet\"))\n",
    "r3 = pd.read_parquet(os.path.join(datapath, \"fireducks_q3_result.parquet\"))\n",
    "r4 = pd.read_parquet(os.path.join(datapath, \"fireducks_opt_q3_result.parquet\"))\n",
    "r5 = pd.read_parquet(os.path.join(datapath, \"cudf_q3_result.parquet\"))\n",
    "r6 = pd.read_parquet(os.path.join(datapath, \"cudf_opt_q3_result.parquet\"))"
   ]
  },
  {
   "cell_type": "code",
   "execution_count": null,
   "id": "27fa49a2-66d0-486d-baa0-2e32dc05445a",
   "metadata": {},
   "outputs": [],
   "source": [
    "r1"
   ]
  },
  {
   "cell_type": "code",
   "execution_count": null,
   "id": "32dd3874-f35c-4d44-a2c3-e35ba2a9f519",
   "metadata": {},
   "outputs": [],
   "source": [
    "r2"
   ]
  },
  {
   "cell_type": "code",
   "execution_count": null,
   "id": "5cd1cf4d-aedb-4276-8afb-6c0749d8feba",
   "metadata": {},
   "outputs": [],
   "source": [
    "r3"
   ]
  },
  {
   "cell_type": "code",
   "execution_count": null,
   "id": "f4257e45-e5be-47ec-80d5-cc737419c7df",
   "metadata": {},
   "outputs": [],
   "source": [
    "r4"
   ]
  },
  {
   "cell_type": "code",
   "execution_count": null,
   "id": "f1e61984-7748-4df9-bc84-7c837837306d",
   "metadata": {},
   "outputs": [],
   "source": [
    "r5"
   ]
  },
  {
   "cell_type": "code",
   "execution_count": null,
   "id": "051f2bd9-c037-44f0-add4-f10d193c6701",
   "metadata": {},
   "outputs": [],
   "source": [
    "r6"
   ]
  },
  {
   "cell_type": "markdown",
   "id": "bb91f8e2-ffb8-4795-9fa3-090b9b5030f3",
   "metadata": {},
   "source": [
    "##  Cleanup"
   ]
  },
  {
   "cell_type": "code",
   "execution_count": null,
   "id": "dbdbcb6a-33d3-4c59-8518-41903bcfd55d",
   "metadata": {},
   "outputs": [],
   "source": [
    "# !rm -rf polars-tpch/data/tables"
   ]
  }
 ],
 "metadata": {
  "kernelspec": {
   "display_name": "Python 3 (ipykernel)",
   "language": "python",
   "name": "python3"
  },
  "language_info": {
   "codemirror_mode": {
    "name": "ipython",
    "version": 3
   },
   "file_extension": ".py",
   "mimetype": "text/x-python",
   "name": "python",
   "nbconvert_exporter": "python",
   "pygments_lexer": "ipython3",
   "version": "3.11.11"
  }
 },
 "nbformat": 4,
 "nbformat_minor": 5
}
