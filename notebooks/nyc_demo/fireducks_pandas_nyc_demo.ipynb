{
 "cells": [
  {
   "cell_type": "markdown",
   "metadata": {
    "id": "JfrJ76NdFjg7"
   },
   "source": [
    "# A short presentation showing speedup when switching from pandas to FireDucks\n",
    "\n",
    "🔥 🐦[**FireDucks**](https://fireducks-dev.github.io/) is a high-performance compiler-accelerated DataFrame library with highly compatible pandas APIs developed to speedup a pandas application without any manual source code changes. It comes with a multi-threaded C++ kernel and automatic query optimization features (powered by an in-built compiler) with lazy-execution model.\n",
    "\n",
    "In this test drive, we will be using [ Parking Violations Issued - Fiscal Year 2022](https://data.cityofnewyork.us/City-Government/Parking-Violations-Issued-Fiscal-Year-2022/7mxj-7a6y/about_data) dataset from NYC Open Data.\n",
    "\n",
    "REF: https://colab.research.google.com/github/rapidsai-community/showcase/blob/main/getting_started_tutorials/cudf_pandas_colab_demo.ipynb\n",
    "\n",
    "\n"
   ]
  },
  {
   "cell_type": "code",
   "execution_count": 1,
   "metadata": {
    "colab": {
     "base_uri": "https://localhost:8080/"
    },
    "id": "BKdGiiZ2EN-o",
    "outputId": "556bc81a-281b-4285-f78b-7802c70b51ab"
   },
   "outputs": [],
   "source": [
    "!pip install -q -U fireducks"
   ]
  },
  {
   "cell_type": "code",
   "execution_count": 2,
   "metadata": {
    "id": "O2KIjJetEKrp"
   },
   "outputs": [],
   "source": [
    "%load_ext fireducks.pandas\n",
    "import time\n",
    "import pandas as pd"
   ]
  },
  {
   "cell_type": "code",
   "execution_count": 3,
   "metadata": {
    "colab": {
     "base_uri": "https://localhost:8080/"
    },
    "id": "T4mjOF3mFC7b",
    "outputId": "0694c170-58c3-436d-de89-da1f95bd8fb3"
   },
   "outputs": [
    {
     "name": "stdout",
     "output_type": "stream",
     "text": [
      "evaluation with fireducks.pandas\n"
     ]
    }
   ],
   "source": [
    "print(f\"evaluation with {pd.__name__}\")"
   ]
  },
  {
   "cell_type": "code",
   "execution_count": 4,
   "metadata": {},
   "outputs": [],
   "source": [
    "# to disable FireDucks lazy execution mode\n",
    "from fireducks.core import get_fireducks_options\n",
    "get_fireducks_options().set_benchmark_mode(True)"
   ]
  },
  {
   "cell_type": "code",
   "execution_count": 5,
   "metadata": {},
   "outputs": [],
   "source": [
    "# to get actual FireDucks version, when calling __version__\n",
    "from fireducks.core import set_fireducks_option\n",
    "set_fireducks_option(\"fireducks-version\", True)"
   ]
  },
  {
   "cell_type": "code",
   "execution_count": 6,
   "metadata": {},
   "outputs": [
    {
     "name": "stdout",
     "output_type": "stream",
     "text": [
      "============================== Evaluation Environment Information ==============================\n",
      "platform: Linux\n",
      "architecture: x86_64\n",
      "processor: x86_64\n",
      "cpu: 48\n",
      "fireducks.pandas version: 1.1.6\n"
     ]
    }
   ],
   "source": [
    "\n",
    "import platform, psutil\n",
    "print(\"=\"*30, \"Evaluation Environment Information\", \"=\"*30)\n",
    "print(f'platform: {platform.system()}')\n",
    "print(f'architecture: {platform.machine()}')\n",
    "print(f'processor: {platform.processor()}')\n",
    "print(f'cpu: {psutil.cpu_count()}')\n",
    "print(f'{pd.__name__} version: {pd.__version__}')"
   ]
  },
  {
   "cell_type": "markdown",
   "metadata": {
    "id": "gNIYWM0xEbMR"
   },
   "source": [
    "## Let's load the parquet dataset"
   ]
  },
  {
   "cell_type": "code",
   "execution_count": 7,
   "metadata": {
    "colab": {
     "base_uri": "https://localhost:8080/"
    },
    "id": "6nzYlYVVENGK",
    "outputId": "be8d1e38-24aa-43f7-ec4b-4beee4104b2f"
   },
   "outputs": [],
   "source": [
    "# Data can be downloaded from here:\n",
    "!wget -q https://data.rapids.ai/datasets/nyc_parking/nyc_parking_violations_2022.parquet"
   ]
  },
  {
   "cell_type": "code",
   "execution_count": 8,
   "metadata": {
    "colab": {
     "base_uri": "https://localhost:8080/",
     "height": 423
    },
    "id": "Y_d5fwWPES1g",
    "outputId": "5f387256-4fd6-4d97-8fcb-f46ef31c9885"
   },
   "outputs": [
    {
     "data": {
      "text/html": [
       "<div>\n",
       "<style scoped>\n",
       "    .dataframe tbody tr th:only-of-type {\n",
       "        vertical-align: middle;\n",
       "    }\n",
       "\n",
       "    .dataframe tbody tr th {\n",
       "        vertical-align: top;\n",
       "    }\n",
       "\n",
       "    .dataframe thead th {\n",
       "        text-align: right;\n",
       "    }\n",
       "</style>\n",
       "<table border=\"1\" class=\"dataframe\">\n",
       "  <thead>\n",
       "    <tr style=\"text-align: right;\">\n",
       "      <th></th>\n",
       "      <th>Registration State</th>\n",
       "      <th>Violation Description</th>\n",
       "      <th>Vehicle Body Type</th>\n",
       "      <th>Issue Date</th>\n",
       "      <th>Summons Number</th>\n",
       "    </tr>\n",
       "  </thead>\n",
       "  <tbody>\n",
       "    <tr>\n",
       "      <th>0</th>\n",
       "      <td>NY</td>\n",
       "      <td>&lt;NA&gt;</td>\n",
       "      <td>VAN</td>\n",
       "      <td>06/25/2021</td>\n",
       "      <td>1457617912</td>\n",
       "    </tr>\n",
       "    <tr>\n",
       "      <th>1</th>\n",
       "      <td>NY</td>\n",
       "      <td>&lt;NA&gt;</td>\n",
       "      <td>SUBN</td>\n",
       "      <td>06/25/2021</td>\n",
       "      <td>1457617924</td>\n",
       "    </tr>\n",
       "    <tr>\n",
       "      <th>2</th>\n",
       "      <td>TX</td>\n",
       "      <td>&lt;NA&gt;</td>\n",
       "      <td>SDN</td>\n",
       "      <td>06/17/2021</td>\n",
       "      <td>1457622427</td>\n",
       "    </tr>\n",
       "    <tr>\n",
       "      <th>3</th>\n",
       "      <td>MO</td>\n",
       "      <td>&lt;NA&gt;</td>\n",
       "      <td>SDN</td>\n",
       "      <td>06/16/2021</td>\n",
       "      <td>1457638629</td>\n",
       "    </tr>\n",
       "    <tr>\n",
       "      <th>4</th>\n",
       "      <td>NY</td>\n",
       "      <td>&lt;NA&gt;</td>\n",
       "      <td>TAXI</td>\n",
       "      <td>07/04/2021</td>\n",
       "      <td>1457639580</td>\n",
       "    </tr>\n",
       "    <tr>\n",
       "      <th>...</th>\n",
       "      <td>...</td>\n",
       "      <td>...</td>\n",
       "      <td>...</td>\n",
       "      <td>...</td>\n",
       "      <td>...</td>\n",
       "    </tr>\n",
       "    <tr>\n",
       "      <th>15435602</th>\n",
       "      <td>99</td>\n",
       "      <td>21-No Parking (street clean)</td>\n",
       "      <td>SUBN</td>\n",
       "      <td>06/07/2022</td>\n",
       "      <td>8995222761</td>\n",
       "    </tr>\n",
       "    <tr>\n",
       "      <th>15435603</th>\n",
       "      <td>TN</td>\n",
       "      <td>21-No Parking (street clean)</td>\n",
       "      <td>PICK</td>\n",
       "      <td>06/07/2022</td>\n",
       "      <td>8995222773</td>\n",
       "    </tr>\n",
       "    <tr>\n",
       "      <th>15435604</th>\n",
       "      <td>NY</td>\n",
       "      <td>21-No Parking (street clean)</td>\n",
       "      <td>2DSD</td>\n",
       "      <td>06/07/2022</td>\n",
       "      <td>8995222785</td>\n",
       "    </tr>\n",
       "    <tr>\n",
       "      <th>15435605</th>\n",
       "      <td>VA</td>\n",
       "      <td>21-No Parking (street clean)</td>\n",
       "      <td>SUBN</td>\n",
       "      <td>06/07/2022</td>\n",
       "      <td>8995222827</td>\n",
       "    </tr>\n",
       "    <tr>\n",
       "      <th>15435606</th>\n",
       "      <td>MD</td>\n",
       "      <td>14-No Standing</td>\n",
       "      <td>4DSD</td>\n",
       "      <td>06/07/2022</td>\n",
       "      <td>8995222839</td>\n",
       "    </tr>\n",
       "  </tbody>\n",
       "</table>\n",
       "<p>15435607 rows x 5 columns</p>\n",
       "</div>"
      ]
     },
     "metadata": {},
     "output_type": "display_data"
    }
   ],
   "source": [
    "t0 = time.time()\n",
    "df = pd.read_parquet(\n",
    "    \"nyc_parking_violations_2022.parquet\",\n",
    "    columns=[\"Registration State\", \"Violation Description\",\n",
    "             \"Vehicle Body Type\", \"Issue Date\", \"Summons Number\"]\n",
    ")\n",
    "load_t = time.time() - t0\n",
    "df"
   ]
  },
  {
   "cell_type": "markdown",
   "metadata": {
    "id": "x7wZO0agEZAB"
   },
   "source": [
    "## Q1: Which parking violation is most commonly committed by vehicles from various U.S states?"
   ]
  },
  {
   "cell_type": "code",
   "execution_count": 9,
   "metadata": {
    "colab": {
     "base_uri": "https://localhost:8080/",
     "height": 423
    },
    "id": "UQJCwb9jEeCB",
    "outputId": "d2e2cf32-89a1-4068-9920-5fce163a3203"
   },
   "outputs": [
    {
     "data": {
      "text/html": [
       "<div>\n",
       "<style scoped>\n",
       "    .dataframe tbody tr th:only-of-type {\n",
       "        vertical-align: middle;\n",
       "    }\n",
       "\n",
       "    .dataframe tbody tr th {\n",
       "        vertical-align: top;\n",
       "    }\n",
       "\n",
       "    .dataframe thead th {\n",
       "        text-align: right;\n",
       "    }\n",
       "</style>\n",
       "<table border=\"1\" class=\"dataframe\">\n",
       "  <thead>\n",
       "    <tr style=\"text-align: right;\">\n",
       "      <th></th>\n",
       "      <th>Registration State</th>\n",
       "      <th>Violation Description</th>\n",
       "      <th>count</th>\n",
       "    </tr>\n",
       "  </thead>\n",
       "  <tbody>\n",
       "    <tr>\n",
       "      <th>0</th>\n",
       "      <td>99</td>\n",
       "      <td>&lt;NA&gt;</td>\n",
       "      <td>17550</td>\n",
       "    </tr>\n",
       "    <tr>\n",
       "      <th>1</th>\n",
       "      <td>AB</td>\n",
       "      <td>14-No Standing</td>\n",
       "      <td>22</td>\n",
       "    </tr>\n",
       "    <tr>\n",
       "      <th>2</th>\n",
       "      <td>AK</td>\n",
       "      <td>PHTO SCHOOL ZN SPEED VIOLATION</td>\n",
       "      <td>125</td>\n",
       "    </tr>\n",
       "    <tr>\n",
       "      <th>3</th>\n",
       "      <td>AL</td>\n",
       "      <td>PHTO SCHOOL ZN SPEED VIOLATION</td>\n",
       "      <td>3668</td>\n",
       "    </tr>\n",
       "    <tr>\n",
       "      <th>4</th>\n",
       "      <td>AR</td>\n",
       "      <td>PHTO SCHOOL ZN SPEED VIOLATION</td>\n",
       "      <td>537</td>\n",
       "    </tr>\n",
       "    <tr>\n",
       "      <th>...</th>\n",
       "      <td>...</td>\n",
       "      <td>...</td>\n",
       "      <td>...</td>\n",
       "    </tr>\n",
       "    <tr>\n",
       "      <th>62</th>\n",
       "      <td>VT</td>\n",
       "      <td>PHTO SCHOOL ZN SPEED VIOLATION</td>\n",
       "      <td>3024</td>\n",
       "    </tr>\n",
       "    <tr>\n",
       "      <th>63</th>\n",
       "      <td>WA</td>\n",
       "      <td>21-No Parking (street clean)</td>\n",
       "      <td>3732</td>\n",
       "    </tr>\n",
       "    <tr>\n",
       "      <th>64</th>\n",
       "      <td>WI</td>\n",
       "      <td>14-No Standing</td>\n",
       "      <td>1639</td>\n",
       "    </tr>\n",
       "    <tr>\n",
       "      <th>65</th>\n",
       "      <td>WV</td>\n",
       "      <td>PHTO SCHOOL ZN SPEED VIOLATION</td>\n",
       "      <td>1185</td>\n",
       "    </tr>\n",
       "    <tr>\n",
       "      <th>66</th>\n",
       "      <td>WY</td>\n",
       "      <td>21-No Parking (street clean)</td>\n",
       "      <td>138</td>\n",
       "    </tr>\n",
       "  </tbody>\n",
       "</table>\n",
       "<p>67 rows x 3 columns</p>\n",
       "</div>"
      ]
     },
     "metadata": {},
     "output_type": "display_data"
    }
   ],
   "source": [
    "t1 = time.time()\n",
    "r1 = (df[[\"Registration State\", \"Violation Description\"]]\n",
    " .value_counts()\n",
    " .groupby(\"Registration State\")\n",
    " .head(1)\n",
    " .sort_index()\n",
    " .reset_index()\n",
    ")\n",
    "q1_t = time.time() - t1\n",
    "r1"
   ]
  },
  {
   "cell_type": "markdown",
   "metadata": {
    "id": "iHp9ZtyjEgmB"
   },
   "source": [
    "## Q2: Which vehicle body types are most frequently involved in parking violations?"
   ]
  },
  {
   "cell_type": "code",
   "execution_count": 10,
   "metadata": {
    "colab": {
     "base_uri": "https://localhost:8080/",
     "height": 455
    },
    "id": "8ZzaizN0Ejh7",
    "outputId": "9041f3b0-4327-4bd0-e484-c853733b45af"
   },
   "outputs": [
    {
     "data": {
      "text/html": [
       "<div>\n",
       "<style scoped>\n",
       "    .dataframe tbody tr th:only-of-type {\n",
       "        vertical-align: middle;\n",
       "    }\n",
       "\n",
       "    .dataframe tbody tr th {\n",
       "        vertical-align: top;\n",
       "    }\n",
       "\n",
       "    .dataframe thead th {\n",
       "        text-align: right;\n",
       "    }\n",
       "</style>\n",
       "<table border=\"1\" class=\"dataframe\">\n",
       "  <thead>\n",
       "    <tr style=\"text-align: right;\">\n",
       "      <th></th>\n",
       "      <th>Count</th>\n",
       "    </tr>\n",
       "    <tr>\n",
       "      <th>Vehicle Body Type</th>\n",
       "      <th></th>\n",
       "    </tr>\n",
       "  </thead>\n",
       "  <tbody>\n",
       "    <tr>\n",
       "      <th>SUBN</th>\n",
       "      <td>6449007</td>\n",
       "    </tr>\n",
       "    <tr>\n",
       "      <th>4DSD</th>\n",
       "      <td>4402991</td>\n",
       "    </tr>\n",
       "    <tr>\n",
       "      <th>VAN</th>\n",
       "      <td>1317899</td>\n",
       "    </tr>\n",
       "    <tr>\n",
       "      <th>DELV</th>\n",
       "      <td>436430</td>\n",
       "    </tr>\n",
       "    <tr>\n",
       "      <th>PICK</th>\n",
       "      <td>429798</td>\n",
       "    </tr>\n",
       "    <tr>\n",
       "      <th>...</th>\n",
       "      <td>...</td>\n",
       "    </tr>\n",
       "    <tr>\n",
       "      <th>YANT</th>\n",
       "      <td>1</td>\n",
       "    </tr>\n",
       "    <tr>\n",
       "      <th>YBSD</th>\n",
       "      <td>1</td>\n",
       "    </tr>\n",
       "    <tr>\n",
       "      <th>YEL</th>\n",
       "      <td>1</td>\n",
       "    </tr>\n",
       "    <tr>\n",
       "      <th>YL</th>\n",
       "      <td>1</td>\n",
       "    </tr>\n",
       "    <tr>\n",
       "      <th>Z1UT</th>\n",
       "      <td>1</td>\n",
       "    </tr>\n",
       "  </tbody>\n",
       "</table>\n",
       "<p>967 rows x 1 columns</p>\n",
       "</div>"
      ]
     },
     "metadata": {},
     "output_type": "display_data"
    }
   ],
   "source": [
    "t2 = time.time()\n",
    "r2 = (df\n",
    " .groupby([\"Vehicle Body Type\"])\n",
    " .agg({\"Summons Number\": \"count\"})\n",
    " .rename(columns={\"Summons Number\": \"Count\"})\n",
    " .sort_values([\"Count\"], ascending=False)\n",
    ")\n",
    "q2_t = time.time() - t2\n",
    "r2"
   ]
  },
  {
   "cell_type": "markdown",
   "metadata": {
    "id": "8dSDKYWSEmMa"
   },
   "source": [
    "## Q3. How do parking violations vary across days of the week?"
   ]
  },
  {
   "cell_type": "code",
   "execution_count": 11,
   "metadata": {
    "colab": {
     "base_uri": "https://localhost:8080/"
    },
    "id": "BKw15fyKEqCy",
    "outputId": "13f3fc18-af47-4790-fad2-7278345d9b59"
   },
   "outputs": [
    {
     "data": {
      "text/plain": [
       "issue_weekday\n",
       "Sunday        462992\n",
       "Saturday     1108385\n",
       "Monday       2488563\n",
       "Wednesday    2760088\n",
       "Tuesday      2809949\n",
       "Friday       2891679\n",
       "Thursday     2913951\n",
       "Name: Summons Number, dtype: int64"
      ]
     },
     "execution_count": 11,
     "metadata": {},
     "output_type": "execute_result"
    }
   ],
   "source": [
    "t3 = time.time()\n",
    "weekday_names = {\n",
    "    0: \"Monday\",\n",
    "    1: \"Tuesday\",\n",
    "    2: \"Wednesday\",\n",
    "    3: \"Thursday\",\n",
    "    4: \"Friday\",\n",
    "    5: \"Saturday\",\n",
    "    6: \"Sunday\",\n",
    "}\n",
    "\n",
    "df[\"Issue Date\"] = df[\"Issue Date\"].astype(\"datetime64[ms]\")\n",
    "df[\"issue_weekday\"] = df[\"Issue Date\"].dt.weekday.map(weekday_names)\n",
    "r3 = df.groupby([\"issue_weekday\"])[\"Summons Number\"].count().sort_values()\n",
    "q3_t = time.time() - t3\n",
    "r3"
   ]
  },
  {
   "cell_type": "markdown",
   "metadata": {
    "id": "VGERKK6BEvui"
   },
   "source": [
    "## Evaluation"
   ]
  },
  {
   "cell_type": "code",
   "execution_count": 12,
   "metadata": {
    "colab": {
     "base_uri": "https://localhost:8080/"
    },
    "id": "IcttsqavE1Y6",
    "outputId": "d467d639-f265-4ac7-f908-cb3ace131e65"
   },
   "outputs": [
    {
     "name": "stdout",
     "output_type": "stream",
     "text": [
      "total time taken: 0.7754817008972168 sec\n"
     ]
    },
    {
     "data": {
      "text/plain": [
       "data_loading    0.521625\n",
       "query_1         0.075056\n",
       "query_2         0.035200\n",
       "query_3         0.143601\n",
       "dtype: float64"
      ]
     },
     "execution_count": 12,
     "metadata": {},
     "output_type": "execute_result"
    }
   ],
   "source": [
    "s = pd.Series([load_t, q1_t, q2_t, q3_t], index = [\"data_loading\", \"query_1\", \"query_2\", \"query_3\"])\n",
    "print(f\"total time taken: {s.sum()} sec\")\n",
    "s"
   ]
  },
  {
   "cell_type": "markdown",
   "metadata": {
    "id": "_9KaktrLG0dV"
   },
   "source": [
    "# Conclusion\n",
    "\n",
    "🚀 Execution time could be reduced **from 11.37 sec to 0.79 sec (~14.4x speedup)** without incurring any migration cost (pandas to FireDucks code translation is absolutely not required, no need to learn a new library) or an expensive hardware cost (no need for high spec GPU system)!!\n",
    "\n",
    "🚀🚀 You may like to check other [benchmarks](https://fireducks-dev.github.io/docs/benchmarks/)"
   ]
  }
 ],
 "metadata": {
  "colab": {
   "provenance": []
  },
  "kernelspec": {
   "display_name": "Python 3 (ipykernel)",
   "language": "python",
   "name": "python3"
  },
  "language_info": {
   "codemirror_mode": {
    "name": "ipython",
    "version": 3
   },
   "file_extension": ".py",
   "mimetype": "text/x-python",
   "name": "python",
   "nbconvert_exporter": "python",
   "pygments_lexer": "ipython3",
   "version": "3.11.11"
  }
 },
 "nbformat": 4,
 "nbformat_minor": 4
}
