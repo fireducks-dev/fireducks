{
 "cells": [
  {
   "cell_type": "markdown",
   "metadata": {},
   "source": [
    "## Pandas vs Polars vs FireDucks\n",
    "\n",
    "This notebook is contributed by [Mr. Avi Chawla](https://www.linkedin.com/in/avi-chawla/), Co-founder @ [Daily Dose of Data Science](https://www.dailydoseofds.com/) \n",
    "\n",
    "We would like to express our deepest gratitude for his kind contribution.\n"
   ]
  },
  {
   "cell_type": "code",
   "execution_count": 1,
   "metadata": {
    "colab": {
     "base_uri": "https://localhost:8080/"
    },
    "id": "FqF2aCCPUShb",
    "outputId": "9bfac998-c1a0-4c3e-979c-61c10f50dac3"
   },
   "outputs": [],
   "source": [
    "!pip install -q -U fireducks polars linetimer"
   ]
  },
  {
   "cell_type": "code",
   "execution_count": 2,
   "metadata": {
    "colab": {
     "base_uri": "https://localhost:8080/"
    },
    "id": "c076aE75JFjX",
    "outputId": "1386d32d-354f-43e3-d146-ae14f85da8c2"
   },
   "outputs": [],
   "source": [
    "# download the dataset:\n",
    "!wget -q https://modin-datasets.s3.amazonaws.com/testing/yellow_tripdata_2015-01.csv"
   ]
  },
  {
   "cell_type": "code",
   "execution_count": 3,
   "metadata": {
    "id": "1Q2E4PwOd-Fh"
   },
   "outputs": [],
   "source": [
    "import polars as pl\n",
    "df = pl.scan_csv(\"yellow_tripdata_2015-01.csv\")\n",
    "\n",
    "big_df = pl.concat([df for _ in range(20)])\n",
    "big_df.collect().write_parquet(\"taxi.parquet\")"
   ]
  },
  {
   "cell_type": "code",
   "execution_count": 4,
   "metadata": {
    "colab": {
     "base_uri": "https://localhost:8080/"
    },
    "id": "eU13inRDf9QK",
    "outputId": "55356d8d-035c-46e7-962d-265c938f3a60"
   },
   "outputs": [
    {
     "name": "stdout",
     "output_type": "stream",
     "text": [
      "-rw-r--r-- 1 sourav scaleup 613M  1月 13 15:49 taxi.parquet\n"
     ]
    }
   ],
   "source": [
    "!ls -lah | grep taxi"
   ]
  },
  {
   "cell_type": "code",
   "execution_count": 5,
   "metadata": {},
   "outputs": [
    {
     "name": "stdout",
     "output_type": "stream",
     "text": [
      "============================== Evaluation Environment Information ==============================\n",
      "platform: Linux\n",
      "architecture: x86_64\n",
      "processor: x86_64\n",
      "cpu: 128\n"
     ]
    }
   ],
   "source": [
    "import platform, psutil\n",
    "print(\"=\"*30, \"Evaluation Environment Information\", \"=\"*30)\n",
    "print(f'platform: {platform.system()}')\n",
    "print(f'architecture: {platform.machine()}')\n",
    "print(f'processor: {platform.processor()}')\n",
    "print(f'cpu: {psutil.cpu_count()}')"
   ]
  },
  {
   "cell_type": "markdown",
   "metadata": {
    "id": "1p0vHm4p2xqe"
   },
   "source": [
    "# Pandas\n"
   ]
  },
  {
   "cell_type": "code",
   "execution_count": 6,
   "metadata": {
    "id": "u-FT1j8W2f2c"
   },
   "outputs": [],
   "source": [
    "# defining query to be performed on pandas DataFrame\n",
    "\n",
    "from linetimer import CodeTimer\n",
    "\n",
    "def pandas_query(key):\n",
    "  with CodeTimer(name=f\"Overall execution for ${key} using {pd.__name__}\", unit=\"s\"):\n",
    "    res = (\n",
    "        pd.read_parquet(\"taxi.parquet\")\n",
    "        .groupby(key)\n",
    "        .agg(\n",
    "            mean_mta_tax=(\"mta_tax\", \"mean\"),\n",
    "            mean_tip_amount=(\"tip_amount\", \"mean\"),\n",
    "            mean_tolls_amount=(\"tolls_amount\", \"mean\"),\n",
    "            mean_trip_distance=(\"trip_distance\", \"mean\"),\n",
    "        )\n",
    "    )\n",
    "    return res"
   ]
  },
  {
   "cell_type": "code",
   "execution_count": 7,
   "metadata": {
    "id": "vtNqCfQD2qjO"
   },
   "outputs": [
    {
     "data": {
      "text/plain": [
       "'2.2.3'"
      ]
     },
     "execution_count": 7,
     "metadata": {},
     "output_type": "execute_result"
    }
   ],
   "source": [
    "import pandas as pd\n",
    "pd.__version__"
   ]
  },
  {
   "cell_type": "code",
   "execution_count": 8,
   "metadata": {
    "id": "JDxw2EbM2zpG"
   },
   "outputs": [
    {
     "name": "stdout",
     "output_type": "stream",
     "text": [
      "Code block 'Overall execution for $PULocationID using pandas' took: 10.41286 s\n"
     ]
    },
    {
     "data": {
      "text/html": [
       "<div>\n",
       "<style scoped>\n",
       "    .dataframe tbody tr th:only-of-type {\n",
       "        vertical-align: middle;\n",
       "    }\n",
       "\n",
       "    .dataframe tbody tr th {\n",
       "        vertical-align: top;\n",
       "    }\n",
       "\n",
       "    .dataframe thead th {\n",
       "        text-align: right;\n",
       "    }\n",
       "</style>\n",
       "<table border=\"1\" class=\"dataframe\">\n",
       "  <thead>\n",
       "    <tr style=\"text-align: right;\">\n",
       "      <th></th>\n",
       "      <th>mean_mta_tax</th>\n",
       "      <th>mean_tip_amount</th>\n",
       "      <th>mean_tolls_amount</th>\n",
       "      <th>mean_trip_distance</th>\n",
       "    </tr>\n",
       "    <tr>\n",
       "      <th>PULocationID</th>\n",
       "      <th></th>\n",
       "      <th></th>\n",
       "      <th></th>\n",
       "      <th></th>\n",
       "    </tr>\n",
       "  </thead>\n",
       "  <tbody>\n",
       "    <tr>\n",
       "      <th>1</th>\n",
       "      <td>0.104895</td>\n",
       "      <td>5.670350</td>\n",
       "      <td>2.147483</td>\n",
       "      <td>1.645385</td>\n",
       "    </tr>\n",
       "    <tr>\n",
       "      <th>2</th>\n",
       "      <td>0.500000</td>\n",
       "      <td>5.030000</td>\n",
       "      <td>1.332500</td>\n",
       "      <td>10.280000</td>\n",
       "    </tr>\n",
       "    <tr>\n",
       "      <th>3</th>\n",
       "      <td>0.500000</td>\n",
       "      <td>1.368750</td>\n",
       "      <td>1.332500</td>\n",
       "      <td>9.281250</td>\n",
       "    </tr>\n",
       "    <tr>\n",
       "      <th>4</th>\n",
       "      <td>0.497843</td>\n",
       "      <td>1.401985</td>\n",
       "      <td>0.066277</td>\n",
       "      <td>2.877373</td>\n",
       "    </tr>\n",
       "    <tr>\n",
       "      <th>6</th>\n",
       "      <td>0.500000</td>\n",
       "      <td>0.000000</td>\n",
       "      <td>21.320000</td>\n",
       "      <td>36.700000</td>\n",
       "    </tr>\n",
       "    <tr>\n",
       "      <th>...</th>\n",
       "      <td>...</td>\n",
       "      <td>...</td>\n",
       "      <td>...</td>\n",
       "      <td>...</td>\n",
       "    </tr>\n",
       "    <tr>\n",
       "      <th>261</th>\n",
       "      <td>0.496182</td>\n",
       "      <td>1.193111</td>\n",
       "      <td>0.162796</td>\n",
       "      <td>3.924002</td>\n",
       "    </tr>\n",
       "    <tr>\n",
       "      <th>262</th>\n",
       "      <td>0.498785</td>\n",
       "      <td>1.318876</td>\n",
       "      <td>0.184178</td>\n",
       "      <td>2.736880</td>\n",
       "    </tr>\n",
       "    <tr>\n",
       "      <th>263</th>\n",
       "      <td>0.499182</td>\n",
       "      <td>1.282391</td>\n",
       "      <td>0.136376</td>\n",
       "      <td>2.596841</td>\n",
       "    </tr>\n",
       "    <tr>\n",
       "      <th>264</th>\n",
       "      <td>0.487009</td>\n",
       "      <td>1.526466</td>\n",
       "      <td>0.239003</td>\n",
       "      <td>2.742721</td>\n",
       "    </tr>\n",
       "    <tr>\n",
       "      <th>265</th>\n",
       "      <td>0.258384</td>\n",
       "      <td>5.619169</td>\n",
       "      <td>2.060236</td>\n",
       "      <td>2.776486</td>\n",
       "    </tr>\n",
       "  </tbody>\n",
       "</table>\n",
       "<p>252 rows × 4 columns</p>\n",
       "</div>"
      ],
      "text/plain": [
       "              mean_mta_tax  mean_tip_amount  mean_tolls_amount  \\\n",
       "PULocationID                                                     \n",
       "1                 0.104895         5.670350           2.147483   \n",
       "2                 0.500000         5.030000           1.332500   \n",
       "3                 0.500000         1.368750           1.332500   \n",
       "4                 0.497843         1.401985           0.066277   \n",
       "6                 0.500000         0.000000          21.320000   \n",
       "...                    ...              ...                ...   \n",
       "261               0.496182         1.193111           0.162796   \n",
       "262               0.498785         1.318876           0.184178   \n",
       "263               0.499182         1.282391           0.136376   \n",
       "264               0.487009         1.526466           0.239003   \n",
       "265               0.258384         5.619169           2.060236   \n",
       "\n",
       "              mean_trip_distance  \n",
       "PULocationID                      \n",
       "1                       1.645385  \n",
       "2                      10.280000  \n",
       "3                       9.281250  \n",
       "4                       2.877373  \n",
       "6                      36.700000  \n",
       "...                          ...  \n",
       "261                     3.924002  \n",
       "262                     2.736880  \n",
       "263                     2.596841  \n",
       "264                     2.742721  \n",
       "265                     2.776486  \n",
       "\n",
       "[252 rows x 4 columns]"
      ]
     },
     "execution_count": 8,
     "metadata": {},
     "output_type": "execute_result"
    }
   ],
   "source": [
    "pandas_query(\"PULocationID\")"
   ]
  },
  {
   "cell_type": "code",
   "execution_count": 9,
   "metadata": {
    "id": "dSTROwiVxAlB"
   },
   "outputs": [
    {
     "name": "stdout",
     "output_type": "stream",
     "text": [
      "Code block 'Overall execution for $DOLocationID using pandas' took: 9.12239 s\n"
     ]
    },
    {
     "data": {
      "text/html": [
       "<div>\n",
       "<style scoped>\n",
       "    .dataframe tbody tr th:only-of-type {\n",
       "        vertical-align: middle;\n",
       "    }\n",
       "\n",
       "    .dataframe tbody tr th {\n",
       "        vertical-align: top;\n",
       "    }\n",
       "\n",
       "    .dataframe thead th {\n",
       "        text-align: right;\n",
       "    }\n",
       "</style>\n",
       "<table border=\"1\" class=\"dataframe\">\n",
       "  <thead>\n",
       "    <tr style=\"text-align: right;\">\n",
       "      <th></th>\n",
       "      <th>mean_mta_tax</th>\n",
       "      <th>mean_tip_amount</th>\n",
       "      <th>mean_tolls_amount</th>\n",
       "      <th>mean_trip_distance</th>\n",
       "    </tr>\n",
       "    <tr>\n",
       "      <th>DOLocationID</th>\n",
       "      <th></th>\n",
       "      <th></th>\n",
       "      <th></th>\n",
       "      <th></th>\n",
       "    </tr>\n",
       "  </thead>\n",
       "  <tbody>\n",
       "    <tr>\n",
       "      <th>1</th>\n",
       "      <td>0.012980</td>\n",
       "      <td>6.649897</td>\n",
       "      <td>12.258724</td>\n",
       "      <td>17.091866</td>\n",
       "    </tr>\n",
       "    <tr>\n",
       "      <th>2</th>\n",
       "      <td>0.500000</td>\n",
       "      <td>3.894000</td>\n",
       "      <td>3.198000</td>\n",
       "      <td>13.406000</td>\n",
       "    </tr>\n",
       "    <tr>\n",
       "      <th>3</th>\n",
       "      <td>0.500000</td>\n",
       "      <td>3.138618</td>\n",
       "      <td>1.753171</td>\n",
       "      <td>14.017805</td>\n",
       "    </tr>\n",
       "    <tr>\n",
       "      <th>4</th>\n",
       "      <td>0.499095</td>\n",
       "      <td>1.294488</td>\n",
       "      <td>0.057856</td>\n",
       "      <td>2.517735</td>\n",
       "    </tr>\n",
       "    <tr>\n",
       "      <th>5</th>\n",
       "      <td>0.500000</td>\n",
       "      <td>1.992222</td>\n",
       "      <td>12.678889</td>\n",
       "      <td>26.704444</td>\n",
       "    </tr>\n",
       "    <tr>\n",
       "      <th>...</th>\n",
       "      <td>...</td>\n",
       "      <td>...</td>\n",
       "      <td>...</td>\n",
       "      <td>...</td>\n",
       "    </tr>\n",
       "    <tr>\n",
       "      <th>261</th>\n",
       "      <td>0.499016</td>\n",
       "      <td>1.467040</td>\n",
       "      <td>0.137750</td>\n",
       "      <td>4.153200</td>\n",
       "    </tr>\n",
       "    <tr>\n",
       "      <th>262</th>\n",
       "      <td>0.499334</td>\n",
       "      <td>1.409528</td>\n",
       "      <td>0.271510</td>\n",
       "      <td>2.807141</td>\n",
       "    </tr>\n",
       "    <tr>\n",
       "      <th>263</th>\n",
       "      <td>0.499432</td>\n",
       "      <td>1.379754</td>\n",
       "      <td>0.211886</td>\n",
       "      <td>2.671808</td>\n",
       "    </tr>\n",
       "    <tr>\n",
       "      <th>264</th>\n",
       "      <td>0.485516</td>\n",
       "      <td>1.449961</td>\n",
       "      <td>0.269229</td>\n",
       "      <td>2.553356</td>\n",
       "    </tr>\n",
       "    <tr>\n",
       "      <th>265</th>\n",
       "      <td>0.271957</td>\n",
       "      <td>6.414913</td>\n",
       "      <td>4.495978</td>\n",
       "      <td>12.248787</td>\n",
       "    </tr>\n",
       "  </tbody>\n",
       "</table>\n",
       "<p>261 rows × 4 columns</p>\n",
       "</div>"
      ],
      "text/plain": [
       "              mean_mta_tax  mean_tip_amount  mean_tolls_amount  \\\n",
       "DOLocationID                                                     \n",
       "1                 0.012980         6.649897          12.258724   \n",
       "2                 0.500000         3.894000           3.198000   \n",
       "3                 0.500000         3.138618           1.753171   \n",
       "4                 0.499095         1.294488           0.057856   \n",
       "5                 0.500000         1.992222          12.678889   \n",
       "...                    ...              ...                ...   \n",
       "261               0.499016         1.467040           0.137750   \n",
       "262               0.499334         1.409528           0.271510   \n",
       "263               0.499432         1.379754           0.211886   \n",
       "264               0.485516         1.449961           0.269229   \n",
       "265               0.271957         6.414913           4.495978   \n",
       "\n",
       "              mean_trip_distance  \n",
       "DOLocationID                      \n",
       "1                      17.091866  \n",
       "2                      13.406000  \n",
       "3                      14.017805  \n",
       "4                       2.517735  \n",
       "5                      26.704444  \n",
       "...                          ...  \n",
       "261                     4.153200  \n",
       "262                     2.807141  \n",
       "263                     2.671808  \n",
       "264                     2.553356  \n",
       "265                    12.248787  \n",
       "\n",
       "[261 rows x 4 columns]"
      ]
     },
     "execution_count": 9,
     "metadata": {},
     "output_type": "execute_result"
    }
   ],
   "source": [
    "pandas_query(\"DOLocationID\")"
   ]
  },
  {
   "cell_type": "markdown",
   "metadata": {
    "id": "lvwoJMg82ubd"
   },
   "source": [
    "# FireDucks"
   ]
  },
  {
   "cell_type": "code",
   "execution_count": 10,
   "metadata": {
    "id": "SY4y9XyAzPMu"
   },
   "outputs": [],
   "source": [
    "# defining query to be performed for FireDucks DataFrame (exact same pandas query with _evaluate to trigger execution)\n",
    "\n",
    "from linetimer import CodeTimer\n",
    "\n",
    "def fireducks_query(key):\n",
    "  with CodeTimer(name=f\"Overall execution for {key} using {pd.__name__}\", unit=\"s\"):\n",
    "    res = (\n",
    "        pd.read_parquet(\"taxi.parquet\")\n",
    "        .groupby(key)\n",
    "        .agg(\n",
    "            mean_mta_tax=(\"mta_tax\", \"mean\"),\n",
    "            mean_tip_amount=(\"tip_amount\", \"mean\"),\n",
    "            mean_tolls_amount=(\"tolls_amount\", \"mean\"),\n",
    "            mean_trip_distance=(\"trip_distance\", \"mean\"),\n",
    "        )\n",
    "    )\n",
    "    return res._evaluate()"
   ]
  },
  {
   "cell_type": "code",
   "execution_count": 11,
   "metadata": {},
   "outputs": [],
   "source": [
    "# to get actual FireDucks version, when calling __version__\n",
    "from fireducks.core import set_fireducks_option\n",
    "set_fireducks_option(\"fireducks-version\", True)"
   ]
  },
  {
   "cell_type": "code",
   "execution_count": 12,
   "metadata": {
    "id": "W-YsIKKVx4wj"
   },
   "outputs": [
    {
     "data": {
      "text/plain": [
       "'1.1.6'"
      ]
     },
     "execution_count": 12,
     "metadata": {},
     "output_type": "execute_result"
    }
   ],
   "source": [
    "%load_ext fireducks.ipyext\n",
    "import fireducks.pandas as pd\n",
    "pd.__version__"
   ]
  },
  {
   "cell_type": "code",
   "execution_count": 13,
   "metadata": {
    "id": "QTHOB1-ex6kJ"
   },
   "outputs": [
    {
     "name": "stdout",
     "output_type": "stream",
     "text": [
      "Code block 'Overall execution for PULocationID using fireducks.pandas' took: 0.21669 s\n"
     ]
    },
    {
     "data": {
      "text/html": [
       "<div>\n",
       "<style scoped>\n",
       "    .dataframe tbody tr th:only-of-type {\n",
       "        vertical-align: middle;\n",
       "    }\n",
       "\n",
       "    .dataframe tbody tr th {\n",
       "        vertical-align: top;\n",
       "    }\n",
       "\n",
       "    .dataframe thead th {\n",
       "        text-align: right;\n",
       "    }\n",
       "</style>\n",
       "<table border=\"1\" class=\"dataframe\">\n",
       "  <thead>\n",
       "    <tr style=\"text-align: right;\">\n",
       "      <th></th>\n",
       "      <th>mean_mta_tax</th>\n",
       "      <th>mean_tip_amount</th>\n",
       "      <th>mean_tolls_amount</th>\n",
       "      <th>mean_trip_distance</th>\n",
       "    </tr>\n",
       "    <tr>\n",
       "      <th>PULocationID</th>\n",
       "      <th></th>\n",
       "      <th></th>\n",
       "      <th></th>\n",
       "      <th></th>\n",
       "    </tr>\n",
       "  </thead>\n",
       "  <tbody>\n",
       "    <tr>\n",
       "      <th>1</th>\n",
       "      <td>0.104895</td>\n",
       "      <td>5.670350</td>\n",
       "      <td>2.147483</td>\n",
       "      <td>1.645385</td>\n",
       "    </tr>\n",
       "    <tr>\n",
       "      <th>2</th>\n",
       "      <td>0.500000</td>\n",
       "      <td>5.030000</td>\n",
       "      <td>1.332500</td>\n",
       "      <td>10.280000</td>\n",
       "    </tr>\n",
       "    <tr>\n",
       "      <th>3</th>\n",
       "      <td>0.500000</td>\n",
       "      <td>1.368750</td>\n",
       "      <td>1.332500</td>\n",
       "      <td>9.281250</td>\n",
       "    </tr>\n",
       "    <tr>\n",
       "      <th>4</th>\n",
       "      <td>0.497843</td>\n",
       "      <td>1.401985</td>\n",
       "      <td>0.066277</td>\n",
       "      <td>2.877373</td>\n",
       "    </tr>\n",
       "    <tr>\n",
       "      <th>6</th>\n",
       "      <td>0.500000</td>\n",
       "      <td>0.000000</td>\n",
       "      <td>21.320000</td>\n",
       "      <td>36.700000</td>\n",
       "    </tr>\n",
       "    <tr>\n",
       "      <th>...</th>\n",
       "      <td>...</td>\n",
       "      <td>...</td>\n",
       "      <td>...</td>\n",
       "      <td>...</td>\n",
       "    </tr>\n",
       "    <tr>\n",
       "      <th>261</th>\n",
       "      <td>0.496182</td>\n",
       "      <td>1.193111</td>\n",
       "      <td>0.162796</td>\n",
       "      <td>3.924002</td>\n",
       "    </tr>\n",
       "    <tr>\n",
       "      <th>262</th>\n",
       "      <td>0.498785</td>\n",
       "      <td>1.318876</td>\n",
       "      <td>0.184178</td>\n",
       "      <td>2.736880</td>\n",
       "    </tr>\n",
       "    <tr>\n",
       "      <th>263</th>\n",
       "      <td>0.499182</td>\n",
       "      <td>1.282391</td>\n",
       "      <td>0.136376</td>\n",
       "      <td>2.596841</td>\n",
       "    </tr>\n",
       "    <tr>\n",
       "      <th>264</th>\n",
       "      <td>0.487009</td>\n",
       "      <td>1.526466</td>\n",
       "      <td>0.239003</td>\n",
       "      <td>2.742721</td>\n",
       "    </tr>\n",
       "    <tr>\n",
       "      <th>265</th>\n",
       "      <td>0.258384</td>\n",
       "      <td>5.619169</td>\n",
       "      <td>2.060236</td>\n",
       "      <td>2.776486</td>\n",
       "    </tr>\n",
       "  </tbody>\n",
       "</table>\n",
       "<p>252 rows x 4 columns</p>\n",
       "</div>"
      ]
     },
     "metadata": {},
     "output_type": "display_data"
    },
    {
     "data": {
      "text/html": [
       "<style type=\"text/css\">\n",
       "#T_4a613 caption {\n",
       "  text-align: center;\n",
       "  color: salmon;\n",
       "}\n",
       "</style>\n",
       "<table id=\"T_4a613\">\n",
       "  <caption>profiling-summary:: total: 211.533 msec (fallback: 2.236 msec)</caption>\n",
       "  <thead>\n",
       "    <tr>\n",
       "      <th class=\"blank level0\" >&nbsp;</th>\n",
       "      <th id=\"T_4a613_level0_col0\" class=\"col_heading level0 col0\" >name</th>\n",
       "      <th id=\"T_4a613_level0_col1\" class=\"col_heading level0 col1\" >type</th>\n",
       "      <th id=\"T_4a613_level0_col2\" class=\"col_heading level0 col2\" >n_calls</th>\n",
       "      <th id=\"T_4a613_level0_col3\" class=\"col_heading level0 col3\" >duration (msec)</th>\n",
       "    </tr>\n",
       "  </thead>\n",
       "  <tbody>\n",
       "    <tr>\n",
       "      <th id=\"T_4a613_level0_row0\" class=\"row_heading level0 row0\" >0</th>\n",
       "      <td id=\"T_4a613_row0_col0\" class=\"data row0 col0\" >read_parquet_with_metadata</td>\n",
       "      <td id=\"T_4a613_row0_col1\" class=\"data row0 col1\" >kernel</td>\n",
       "      <td id=\"T_4a613_row0_col2\" class=\"data row0 col2\" >1</td>\n",
       "      <td id=\"T_4a613_row0_col3\" class=\"data row0 col3\" >156.751307</td>\n",
       "    </tr>\n",
       "    <tr>\n",
       "      <th id=\"T_4a613_level0_row1\" class=\"row_heading level0 row1\" >1</th>\n",
       "      <td id=\"T_4a613_row1_col0\" class=\"data row1 col0\" >groupby_agg</td>\n",
       "      <td id=\"T_4a613_row1_col1\" class=\"data row1 col1\" >kernel</td>\n",
       "      <td id=\"T_4a613_row1_col2\" class=\"data row1 col2\" >1</td>\n",
       "      <td id=\"T_4a613_row1_col3\" class=\"data row1 col3\" >49.295960</td>\n",
       "    </tr>\n",
       "    <tr>\n",
       "      <th id=\"T_4a613_level0_row2\" class=\"row_heading level0 row2\" >2</th>\n",
       "      <td id=\"T_4a613_row2_col0\" class=\"data row2 col0\" >DataFrame._repr_html_</td>\n",
       "      <td id=\"T_4a613_row2_col1\" class=\"data row2 col1\" >fallback</td>\n",
       "      <td id=\"T_4a613_row2_col2\" class=\"data row2 col2\" >1</td>\n",
       "      <td id=\"T_4a613_row2_col3\" class=\"data row2 col3\" >2.230732</td>\n",
       "    </tr>\n",
       "    <tr>\n",
       "      <th id=\"T_4a613_level0_row3\" class=\"row_heading level0 row3\" >3</th>\n",
       "      <td id=\"T_4a613_row3_col0\" class=\"data row3 col0\" >read_parquet_metadata</td>\n",
       "      <td id=\"T_4a613_row3_col1\" class=\"data row3 col1\" >kernel</td>\n",
       "      <td id=\"T_4a613_row3_col2\" class=\"data row3 col2\" >1</td>\n",
       "      <td id=\"T_4a613_row3_col3\" class=\"data row3 col3\" >1.815388</td>\n",
       "    </tr>\n",
       "    <tr>\n",
       "      <th id=\"T_4a613_level0_row4\" class=\"row_heading level0 row4\" >4</th>\n",
       "      <td id=\"T_4a613_row4_col0\" class=\"data row4 col0\" >to_pandas.frame.metadata</td>\n",
       "      <td id=\"T_4a613_row4_col1\" class=\"data row4 col1\" >kernel</td>\n",
       "      <td id=\"T_4a613_row4_col2\" class=\"data row4 col2\" >1</td>\n",
       "      <td id=\"T_4a613_row4_col3\" class=\"data row4 col3\" >1.339083</td>\n",
       "    </tr>\n",
       "    <tr>\n",
       "      <th id=\"T_4a613_level0_row5\" class=\"row_heading level0 row5\" >5</th>\n",
       "      <td id=\"T_4a613_row5_col0\" class=\"data row5 col0\" >concat</td>\n",
       "      <td id=\"T_4a613_row5_col1\" class=\"data row5 col1\" >kernel</td>\n",
       "      <td id=\"T_4a613_row5_col2\" class=\"data row5 col2\" >1</td>\n",
       "      <td id=\"T_4a613_row5_col3\" class=\"data row5 col3\" >0.048801</td>\n",
       "    </tr>\n",
       "    <tr>\n",
       "      <th id=\"T_4a613_level0_row6\" class=\"row_heading level0 row6\" >6</th>\n",
       "      <td id=\"T_4a613_row6_col0\" class=\"data row6 col0\" >slice</td>\n",
       "      <td id=\"T_4a613_row6_col1\" class=\"data row6 col1\" >kernel</td>\n",
       "      <td id=\"T_4a613_row6_col2\" class=\"data row6 col2\" >2</td>\n",
       "      <td id=\"T_4a613_row6_col3\" class=\"data row6 col3\" >0.023960</td>\n",
       "    </tr>\n",
       "    <tr>\n",
       "      <th id=\"T_4a613_level0_row7\" class=\"row_heading level0 row7\" >7</th>\n",
       "      <td id=\"T_4a613_row7_col0\" class=\"data row7 col0\" >getattr:_repr_html_</td>\n",
       "      <td id=\"T_4a613_row7_col1\" class=\"data row7 col1\" >fallback</td>\n",
       "      <td id=\"T_4a613_row7_col2\" class=\"data row7 col2\" >1</td>\n",
       "      <td id=\"T_4a613_row7_col3\" class=\"data row7 col3\" >0.005250</td>\n",
       "    </tr>\n",
       "    <tr>\n",
       "      <th id=\"T_4a613_level0_row8\" class=\"row_heading level0 row8\" >8</th>\n",
       "      <td id=\"T_4a613_row8_col0\" class=\"data row8 col0\" >get_shape</td>\n",
       "      <td id=\"T_4a613_row8_col1\" class=\"data row8 col1\" >kernel</td>\n",
       "      <td id=\"T_4a613_row8_col2\" class=\"data row8 col2\" >2</td>\n",
       "      <td id=\"T_4a613_row8_col3\" class=\"data row8 col3\" >0.001910</td>\n",
       "    </tr>\n",
       "  </tbody>\n",
       "</table>\n"
      ],
      "text/plain": [
       "<pandas.io.formats.style.Styler at 0x7f3c0a332cb0>"
      ]
     },
     "metadata": {},
     "output_type": "display_data"
    }
   ],
   "source": [
    "%%fireducks.profile\n",
    "fireducks_query(\"PULocationID\") # exact same pandas code, but much faster "
   ]
  },
  {
   "cell_type": "code",
   "execution_count": 14,
   "metadata": {
    "id": "a9aaktrxx7La"
   },
   "outputs": [
    {
     "name": "stdout",
     "output_type": "stream",
     "text": [
      "Code block 'Overall execution for DOLocationID using fireducks.pandas' took: 0.23712 s\n"
     ]
    },
    {
     "data": {
      "text/html": [
       "<div>\n",
       "<style scoped>\n",
       "    .dataframe tbody tr th:only-of-type {\n",
       "        vertical-align: middle;\n",
       "    }\n",
       "\n",
       "    .dataframe tbody tr th {\n",
       "        vertical-align: top;\n",
       "    }\n",
       "\n",
       "    .dataframe thead th {\n",
       "        text-align: right;\n",
       "    }\n",
       "</style>\n",
       "<table border=\"1\" class=\"dataframe\">\n",
       "  <thead>\n",
       "    <tr style=\"text-align: right;\">\n",
       "      <th></th>\n",
       "      <th>mean_mta_tax</th>\n",
       "      <th>mean_tip_amount</th>\n",
       "      <th>mean_tolls_amount</th>\n",
       "      <th>mean_trip_distance</th>\n",
       "    </tr>\n",
       "    <tr>\n",
       "      <th>DOLocationID</th>\n",
       "      <th></th>\n",
       "      <th></th>\n",
       "      <th></th>\n",
       "      <th></th>\n",
       "    </tr>\n",
       "  </thead>\n",
       "  <tbody>\n",
       "    <tr>\n",
       "      <th>1</th>\n",
       "      <td>0.012980</td>\n",
       "      <td>6.649897</td>\n",
       "      <td>12.258724</td>\n",
       "      <td>17.091866</td>\n",
       "    </tr>\n",
       "    <tr>\n",
       "      <th>2</th>\n",
       "      <td>0.500000</td>\n",
       "      <td>3.894000</td>\n",
       "      <td>3.198000</td>\n",
       "      <td>13.406000</td>\n",
       "    </tr>\n",
       "    <tr>\n",
       "      <th>3</th>\n",
       "      <td>0.500000</td>\n",
       "      <td>3.138618</td>\n",
       "      <td>1.753171</td>\n",
       "      <td>14.017805</td>\n",
       "    </tr>\n",
       "    <tr>\n",
       "      <th>4</th>\n",
       "      <td>0.499095</td>\n",
       "      <td>1.294488</td>\n",
       "      <td>0.057856</td>\n",
       "      <td>2.517735</td>\n",
       "    </tr>\n",
       "    <tr>\n",
       "      <th>5</th>\n",
       "      <td>0.500000</td>\n",
       "      <td>1.992222</td>\n",
       "      <td>12.678889</td>\n",
       "      <td>26.704444</td>\n",
       "    </tr>\n",
       "    <tr>\n",
       "      <th>...</th>\n",
       "      <td>...</td>\n",
       "      <td>...</td>\n",
       "      <td>...</td>\n",
       "      <td>...</td>\n",
       "    </tr>\n",
       "    <tr>\n",
       "      <th>261</th>\n",
       "      <td>0.499016</td>\n",
       "      <td>1.467040</td>\n",
       "      <td>0.137750</td>\n",
       "      <td>4.153200</td>\n",
       "    </tr>\n",
       "    <tr>\n",
       "      <th>262</th>\n",
       "      <td>0.499334</td>\n",
       "      <td>1.409528</td>\n",
       "      <td>0.271510</td>\n",
       "      <td>2.807141</td>\n",
       "    </tr>\n",
       "    <tr>\n",
       "      <th>263</th>\n",
       "      <td>0.499432</td>\n",
       "      <td>1.379754</td>\n",
       "      <td>0.211886</td>\n",
       "      <td>2.671808</td>\n",
       "    </tr>\n",
       "    <tr>\n",
       "      <th>264</th>\n",
       "      <td>0.485516</td>\n",
       "      <td>1.449961</td>\n",
       "      <td>0.269229</td>\n",
       "      <td>2.553356</td>\n",
       "    </tr>\n",
       "    <tr>\n",
       "      <th>265</th>\n",
       "      <td>0.271957</td>\n",
       "      <td>6.414913</td>\n",
       "      <td>4.495978</td>\n",
       "      <td>12.248787</td>\n",
       "    </tr>\n",
       "  </tbody>\n",
       "</table>\n",
       "<p>261 rows x 4 columns</p>\n",
       "</div>"
      ]
     },
     "metadata": {},
     "output_type": "display_data"
    },
    {
     "data": {
      "text/html": [
       "<style type=\"text/css\">\n",
       "#T_c64f7 caption {\n",
       "  text-align: center;\n",
       "  color: salmon;\n",
       "}\n",
       "</style>\n",
       "<table id=\"T_c64f7\">\n",
       "  <caption>profiling-summary:: total: 234.0794 msec (fallback: 2.7025 msec)</caption>\n",
       "  <thead>\n",
       "    <tr>\n",
       "      <th class=\"blank level0\" >&nbsp;</th>\n",
       "      <th id=\"T_c64f7_level0_col0\" class=\"col_heading level0 col0\" >name</th>\n",
       "      <th id=\"T_c64f7_level0_col1\" class=\"col_heading level0 col1\" >type</th>\n",
       "      <th id=\"T_c64f7_level0_col2\" class=\"col_heading level0 col2\" >n_calls</th>\n",
       "      <th id=\"T_c64f7_level0_col3\" class=\"col_heading level0 col3\" >duration (msec)</th>\n",
       "    </tr>\n",
       "  </thead>\n",
       "  <tbody>\n",
       "    <tr>\n",
       "      <th id=\"T_c64f7_level0_row0\" class=\"row_heading level0 row0\" >0</th>\n",
       "      <td id=\"T_c64f7_row0_col0\" class=\"data row0 col0\" >read_parquet_with_metadata</td>\n",
       "      <td id=\"T_c64f7_row0_col1\" class=\"data row0 col1\" >kernel</td>\n",
       "      <td id=\"T_c64f7_row0_col2\" class=\"data row0 col2\" >1</td>\n",
       "      <td id=\"T_c64f7_row0_col3\" class=\"data row0 col3\" >178.157815</td>\n",
       "    </tr>\n",
       "    <tr>\n",
       "      <th id=\"T_c64f7_level0_row1\" class=\"row_heading level0 row1\" >1</th>\n",
       "      <td id=\"T_c64f7_row1_col0\" class=\"data row1 col0\" >groupby_agg</td>\n",
       "      <td id=\"T_c64f7_row1_col1\" class=\"data row1 col1\" >kernel</td>\n",
       "      <td id=\"T_c64f7_row1_col2\" class=\"data row1 col2\" >1</td>\n",
       "      <td id=\"T_c64f7_row1_col3\" class=\"data row1 col3\" >49.760924</td>\n",
       "    </tr>\n",
       "    <tr>\n",
       "      <th id=\"T_c64f7_level0_row2\" class=\"row_heading level0 row2\" >2</th>\n",
       "      <td id=\"T_c64f7_row2_col0\" class=\"data row2 col0\" >DataFrame._repr_html_</td>\n",
       "      <td id=\"T_c64f7_row2_col1\" class=\"data row2 col1\" >fallback</td>\n",
       "      <td id=\"T_c64f7_row2_col2\" class=\"data row2 col2\" >1</td>\n",
       "      <td id=\"T_c64f7_row2_col3\" class=\"data row2 col3\" >2.696758</td>\n",
       "    </tr>\n",
       "    <tr>\n",
       "      <th id=\"T_c64f7_level0_row3\" class=\"row_heading level0 row3\" >3</th>\n",
       "      <td id=\"T_c64f7_row3_col0\" class=\"data row3 col0\" >read_parquet_metadata</td>\n",
       "      <td id=\"T_c64f7_row3_col1\" class=\"data row3 col1\" >kernel</td>\n",
       "      <td id=\"T_c64f7_row3_col2\" class=\"data row3 col2\" >1</td>\n",
       "      <td id=\"T_c64f7_row3_col3\" class=\"data row3 col3\" >2.039001</td>\n",
       "    </tr>\n",
       "    <tr>\n",
       "      <th id=\"T_c64f7_level0_row4\" class=\"row_heading level0 row4\" >4</th>\n",
       "      <td id=\"T_c64f7_row4_col0\" class=\"data row4 col0\" >to_pandas.frame.metadata</td>\n",
       "      <td id=\"T_c64f7_row4_col1\" class=\"data row4 col1\" >kernel</td>\n",
       "      <td id=\"T_c64f7_row4_col2\" class=\"data row4 col2\" >1</td>\n",
       "      <td id=\"T_c64f7_row4_col3\" class=\"data row4 col3\" >1.366834</td>\n",
       "    </tr>\n",
       "    <tr>\n",
       "      <th id=\"T_c64f7_level0_row5\" class=\"row_heading level0 row5\" >5</th>\n",
       "      <td id=\"T_c64f7_row5_col0\" class=\"data row5 col0\" >concat</td>\n",
       "      <td id=\"T_c64f7_row5_col1\" class=\"data row5 col1\" >kernel</td>\n",
       "      <td id=\"T_c64f7_row5_col2\" class=\"data row5 col2\" >1</td>\n",
       "      <td id=\"T_c64f7_row5_col3\" class=\"data row5 col3\" >0.020130</td>\n",
       "    </tr>\n",
       "    <tr>\n",
       "      <th id=\"T_c64f7_level0_row6\" class=\"row_heading level0 row6\" >6</th>\n",
       "      <td id=\"T_c64f7_row6_col0\" class=\"data row6 col0\" >slice</td>\n",
       "      <td id=\"T_c64f7_row6_col1\" class=\"data row6 col1\" >kernel</td>\n",
       "      <td id=\"T_c64f7_row6_col2\" class=\"data row6 col2\" >2</td>\n",
       "      <td id=\"T_c64f7_row6_col3\" class=\"data row6 col3\" >0.018710</td>\n",
       "    </tr>\n",
       "    <tr>\n",
       "      <th id=\"T_c64f7_level0_row7\" class=\"row_heading level0 row7\" >7</th>\n",
       "      <td id=\"T_c64f7_row7_col0\" class=\"data row7 col0\" >getattr:_repr_html_</td>\n",
       "      <td id=\"T_c64f7_row7_col1\" class=\"data row7 col1\" >fallback</td>\n",
       "      <td id=\"T_c64f7_row7_col2\" class=\"data row7 col2\" >1</td>\n",
       "      <td id=\"T_c64f7_row7_col3\" class=\"data row7 col3\" >0.005750</td>\n",
       "    </tr>\n",
       "    <tr>\n",
       "      <th id=\"T_c64f7_level0_row8\" class=\"row_heading level0 row8\" >8</th>\n",
       "      <td id=\"T_c64f7_row8_col0\" class=\"data row8 col0\" >get_shape</td>\n",
       "      <td id=\"T_c64f7_row8_col1\" class=\"data row8 col1\" >kernel</td>\n",
       "      <td id=\"T_c64f7_row8_col2\" class=\"data row8 col2\" >2</td>\n",
       "      <td id=\"T_c64f7_row8_col3\" class=\"data row8 col3\" >0.001740</td>\n",
       "    </tr>\n",
       "  </tbody>\n",
       "</table>\n"
      ],
      "text/plain": [
       "<pandas.io.formats.style.Styler at 0x7f3bf4077370>"
      ]
     },
     "metadata": {},
     "output_type": "display_data"
    }
   ],
   "source": [
    "%%fireducks.profile\n",
    "fireducks_query(\"DOLocationID\") # exact same pandas code, but much faster "
   ]
  },
  {
   "cell_type": "markdown",
   "metadata": {
    "id": "opySzXzA3TEj"
   },
   "source": [
    "# Polars"
   ]
  },
  {
   "cell_type": "code",
   "execution_count": 15,
   "metadata": {
    "id": "XpCnMwZCy6aU"
   },
   "outputs": [],
   "source": [
    "# defining query to be performed for Polars DataFrame (a little different API from pandas query)\n",
    "\n",
    "from linetimer import CodeTimer\n",
    "\n",
    "def polars_query(key):\n",
    "  with CodeTimer(name=f\"Overall execution for {key} using {pl.__name__}\", unit=\"s\"):\n",
    "    res = (\n",
    "        pl.scan_parquet(\"taxi.parquet\")\n",
    "        .group_by(key)\n",
    "        .agg([\n",
    "             pl.mean(\"mta_tax\").alias(\"mean_mta_tax\"),\n",
    "             pl.mean(\"tip_amount\").alias(\"mean_tip_amount\"),\n",
    "             pl.mean(\"tolls_amount\").alias(\"mean_tolls_amount\"),\n",
    "             pl.mean(\"trip_distance\").alias(\"mean_trip_distance\"),\n",
    "        ])\n",
    "    )\n",
    "    ret, prof = res.profile()\n",
    "    print(prof.with_columns(((pl.col(\"end\") - pl.col(\"start\")) / 1e3).alias(\"duration(msec)\")))\n",
    "    return ret\n"
   ]
  },
  {
   "cell_type": "code",
   "execution_count": 16,
   "metadata": {
    "id": "50zpBDkw3Fo1"
   },
   "outputs": [
    {
     "data": {
      "text/plain": [
       "'1.19.0'"
      ]
     },
     "execution_count": 16,
     "metadata": {},
     "output_type": "execute_result"
    }
   ],
   "source": [
    "import polars as pl\n",
    "pl.__version__"
   ]
  },
  {
   "cell_type": "code",
   "execution_count": 17,
   "metadata": {
    "id": "Roc-tJBCYWpn"
   },
   "outputs": [
    {
     "name": "stdout",
     "output_type": "stream",
     "text": [
      "shape: (3, 4)\n",
      "┌─────────────────────────────────┬────────┬─────────┬────────────────┐\n",
      "│ node                            ┆ start  ┆ end     ┆ duration(msec) │\n",
      "│ ---                             ┆ ---    ┆ ---     ┆ ---            │\n",
      "│ str                             ┆ u64    ┆ u64     ┆ f64            │\n",
      "╞═════════════════════════════════╪════════╪═════════╪════════════════╡\n",
      "│ optimization                    ┆ 0      ┆ 8       ┆ 0.008          │\n",
      "│ parquet(taxi.parquet)           ┆ 8      ┆ 271709  ┆ 271.701        │\n",
      "│ group_by_partitioned(PULocatio… ┆ 271733 ┆ 1105267 ┆ 833.534        │\n",
      "└─────────────────────────────────┴────────┴─────────┴────────────────┘\n",
      "Code block 'Overall execution for PULocationID using polars' took: 1.11330 s\n"
     ]
    },
    {
     "data": {
      "text/html": [
       "<div><style>\n",
       ".dataframe > thead > tr,\n",
       ".dataframe > tbody > tr {\n",
       "  text-align: right;\n",
       "  white-space: pre-wrap;\n",
       "}\n",
       "</style>\n",
       "<small>shape: (252, 5)</small><table border=\"1\" class=\"dataframe\"><thead><tr><th>PULocationID</th><th>mean_mta_tax</th><th>mean_tip_amount</th><th>mean_tolls_amount</th><th>mean_trip_distance</th></tr><tr><td>i64</td><td>f64</td><td>f64</td><td>f64</td><td>f64</td></tr></thead><tbody><tr><td>134</td><td>0.481651</td><td>1.662844</td><td>0.391193</td><td>4.269083</td></tr><tr><td>3</td><td>0.5</td><td>1.36875</td><td>1.3325</td><td>9.28125</td></tr><tr><td>265</td><td>0.258384</td><td>5.619169</td><td>2.060236</td><td>2.776486</td></tr><tr><td>137</td><td>0.498752</td><td>1.248832</td><td>0.178264</td><td>2.317984</td></tr><tr><td>6</td><td>0.5</td><td>0.0</td><td>21.32</td><td>36.7</td></tr><tr><td>&hellip;</td><td>&hellip;</td><td>&hellip;</td><td>&hellip;</td><td>&hellip;</td></tr><tr><td>125</td><td>0.495782</td><td>1.379642</td><td>0.130522</td><td>2.659686</td></tr><tr><td>128</td><td>0.5</td><td>0.0</td><td>0.0</td><td>1.947778</td></tr><tr><td>259</td><td>0.5</td><td>0.05</td><td>0.25381</td><td>2.894286</td></tr><tr><td>262</td><td>0.498785</td><td>1.318876</td><td>0.184178</td><td>2.73688</td></tr><tr><td>131</td><td>0.454545</td><td>0.597273</td><td>0.484545</td><td>4.785909</td></tr></tbody></table></div>"
      ],
      "text/plain": [
       "shape: (252, 5)\n",
       "┌──────────────┬──────────────┬─────────────────┬───────────────────┬────────────────────┐\n",
       "│ PULocationID ┆ mean_mta_tax ┆ mean_tip_amount ┆ mean_tolls_amount ┆ mean_trip_distance │\n",
       "│ ---          ┆ ---          ┆ ---             ┆ ---               ┆ ---                │\n",
       "│ i64          ┆ f64          ┆ f64             ┆ f64               ┆ f64                │\n",
       "╞══════════════╪══════════════╪═════════════════╪═══════════════════╪════════════════════╡\n",
       "│ 134          ┆ 0.481651     ┆ 1.662844        ┆ 0.391193          ┆ 4.269083           │\n",
       "│ 3            ┆ 0.5          ┆ 1.36875         ┆ 1.3325            ┆ 9.28125            │\n",
       "│ 265          ┆ 0.258384     ┆ 5.619169        ┆ 2.060236          ┆ 2.776486           │\n",
       "│ 137          ┆ 0.498752     ┆ 1.248832        ┆ 0.178264          ┆ 2.317984           │\n",
       "│ 6            ┆ 0.5          ┆ 0.0             ┆ 21.32             ┆ 36.7               │\n",
       "│ …            ┆ …            ┆ …               ┆ …                 ┆ …                  │\n",
       "│ 125          ┆ 0.495782     ┆ 1.379642        ┆ 0.130522          ┆ 2.659686           │\n",
       "│ 128          ┆ 0.5          ┆ 0.0             ┆ 0.0               ┆ 1.947778           │\n",
       "│ 259          ┆ 0.5          ┆ 0.05            ┆ 0.25381           ┆ 2.894286           │\n",
       "│ 262          ┆ 0.498785     ┆ 1.318876        ┆ 0.184178          ┆ 2.73688            │\n",
       "│ 131          ┆ 0.454545     ┆ 0.597273        ┆ 0.484545          ┆ 4.785909           │\n",
       "└──────────────┴──────────────┴─────────────────┴───────────────────┴────────────────────┘"
      ]
     },
     "execution_count": 17,
     "metadata": {},
     "output_type": "execute_result"
    }
   ],
   "source": [
    "polars_query(\"PULocationID\") # different API, with little slower than FireDucks"
   ]
  },
  {
   "cell_type": "code",
   "execution_count": 18,
   "metadata": {
    "id": "C76xdkTlfkUs"
   },
   "outputs": [
    {
     "name": "stdout",
     "output_type": "stream",
     "text": [
      "shape: (3, 4)\n",
      "┌─────────────────────────────────┬───────┬────────┬────────────────┐\n",
      "│ node                            ┆ start ┆ end    ┆ duration(msec) │\n",
      "│ ---                             ┆ ---   ┆ ---    ┆ ---            │\n",
      "│ str                             ┆ u64   ┆ u64    ┆ f64            │\n",
      "╞═════════════════════════════════╪═══════╪════════╪════════════════╡\n",
      "│ optimization                    ┆ 0     ┆ 1      ┆ 0.001          │\n",
      "│ parquet(taxi.parquet)           ┆ 1     ┆ 62090  ┆ 62.089         │\n",
      "│ group_by_partitioned(DOLocatio… ┆ 62096 ┆ 792385 ┆ 730.289        │\n",
      "└─────────────────────────────────┴───────┴────────┴────────────────┘\n",
      "Code block 'Overall execution for DOLocationID using polars' took: 0.79804 s\n"
     ]
    },
    {
     "data": {
      "text/html": [
       "<div><style>\n",
       ".dataframe > thead > tr,\n",
       ".dataframe > tbody > tr {\n",
       "  text-align: right;\n",
       "  white-space: pre-wrap;\n",
       "}\n",
       "</style>\n",
       "<small>shape: (261, 5)</small><table border=\"1\" class=\"dataframe\"><thead><tr><th>DOLocationID</th><th>mean_mta_tax</th><th>mean_tip_amount</th><th>mean_tolls_amount</th><th>mean_trip_distance</th></tr><tr><td>i64</td><td>f64</td><td>f64</td><td>f64</td><td>f64</td></tr></thead><tbody><tr><td>3</td><td>0.5</td><td>3.138618</td><td>1.753171</td><td>14.017805</td></tr><tr><td>134</td><td>0.494242</td><td>2.659962</td><td>0.910499</td><td>8.775873</td></tr><tr><td>265</td><td>0.271957</td><td>6.414913</td><td>4.495978</td><td>12.248787</td></tr><tr><td>6</td><td>0.5</td><td>3.629737</td><td>10.659211</td><td>16.370263</td></tr><tr><td>137</td><td>0.499297</td><td>1.238587</td><td>0.185286</td><td>2.079024</td></tr><tr><td>&hellip;</td><td>&hellip;</td><td>&hellip;</td><td>&hellip;</td><td>&hellip;</td></tr><tr><td>259</td><td>0.498428</td><td>2.07239</td><td>0.871572</td><td>14.047893</td></tr><tr><td>125</td><td>0.498713</td><td>1.352669</td><td>0.081436</td><td>2.36063</td></tr><tr><td>128</td><td>0.5</td><td>4.161176</td><td>0.752471</td><td>9.422235</td></tr><tr><td>262</td><td>0.499334</td><td>1.409528</td><td>0.27151</td><td>2.807141</td></tr><tr><td>131</td><td>0.496479</td><td>2.005282</td><td>0.717007</td><td>10.589718</td></tr></tbody></table></div>"
      ],
      "text/plain": [
       "shape: (261, 5)\n",
       "┌──────────────┬──────────────┬─────────────────┬───────────────────┬────────────────────┐\n",
       "│ DOLocationID ┆ mean_mta_tax ┆ mean_tip_amount ┆ mean_tolls_amount ┆ mean_trip_distance │\n",
       "│ ---          ┆ ---          ┆ ---             ┆ ---               ┆ ---                │\n",
       "│ i64          ┆ f64          ┆ f64             ┆ f64               ┆ f64                │\n",
       "╞══════════════╪══════════════╪═════════════════╪═══════════════════╪════════════════════╡\n",
       "│ 3            ┆ 0.5          ┆ 3.138618        ┆ 1.753171          ┆ 14.017805          │\n",
       "│ 134          ┆ 0.494242     ┆ 2.659962        ┆ 0.910499          ┆ 8.775873           │\n",
       "│ 265          ┆ 0.271957     ┆ 6.414913        ┆ 4.495978          ┆ 12.248787          │\n",
       "│ 6            ┆ 0.5          ┆ 3.629737        ┆ 10.659211         ┆ 16.370263          │\n",
       "│ 137          ┆ 0.499297     ┆ 1.238587        ┆ 0.185286          ┆ 2.079024           │\n",
       "│ …            ┆ …            ┆ …               ┆ …                 ┆ …                  │\n",
       "│ 259          ┆ 0.498428     ┆ 2.07239         ┆ 0.871572          ┆ 14.047893          │\n",
       "│ 125          ┆ 0.498713     ┆ 1.352669        ┆ 0.081436          ┆ 2.36063            │\n",
       "│ 128          ┆ 0.5          ┆ 4.161176        ┆ 0.752471          ┆ 9.422235           │\n",
       "│ 262          ┆ 0.499334     ┆ 1.409528        ┆ 0.27151           ┆ 2.807141           │\n",
       "│ 131          ┆ 0.496479     ┆ 2.005282        ┆ 0.717007          ┆ 10.589718          │\n",
       "└──────────────┴──────────────┴─────────────────┴───────────────────┴────────────────────┘"
      ]
     },
     "execution_count": 18,
     "metadata": {},
     "output_type": "execute_result"
    }
   ],
   "source": [
    "polars_query(\"DOLocationID\") # different API, with little slower than FireDucks"
   ]
  }
 ],
 "metadata": {
  "accelerator": "TPU",
  "colab": {
   "gpuType": "V28",
   "provenance": []
  },
  "kernelspec": {
   "display_name": "Python 3 (ipykernel)",
   "language": "python",
   "name": "python3"
  },
  "language_info": {
   "codemirror_mode": {
    "name": "ipython",
    "version": 3
   },
   "file_extension": ".py",
   "mimetype": "text/x-python",
   "name": "python",
   "nbconvert_exporter": "python",
   "pygments_lexer": "ipython3",
   "version": "3.11.11"
  }
 },
 "nbformat": 4,
 "nbformat_minor": 4
}
